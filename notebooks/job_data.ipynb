{
 "cells": [
  {
   "cell_type": "code",
   "execution_count": 1,
   "metadata": {},
   "outputs": [],
   "source": [
    "import pandas as pd\n",
    "import plotly.express as px \n"
   ]
  },
  {
   "cell_type": "code",
   "execution_count": 2,
   "metadata": {},
   "outputs": [
    {
     "data": {
      "text/html": [
       "<div>\n",
       "<style scoped>\n",
       "    .dataframe tbody tr th:only-of-type {\n",
       "        vertical-align: middle;\n",
       "    }\n",
       "\n",
       "    .dataframe tbody tr th {\n",
       "        vertical-align: top;\n",
       "    }\n",
       "\n",
       "    .dataframe thead th {\n",
       "        text-align: right;\n",
       "    }\n",
       "</style>\n",
       "<table border=\"1\" class=\"dataframe\">\n",
       "  <thead>\n",
       "    <tr style=\"text-align: right;\">\n",
       "      <th></th>\n",
       "      <th>Unternehmen</th>\n",
       "      <th>Einsatzort</th>\n",
       "      <th>Anrede - AP Anzeige</th>\n",
       "      <th>Nachname - AP Anzeige</th>\n",
       "      <th>E-Mail - AP Anzeige</th>\n",
       "      <th>Position</th>\n",
       "      <th>Erscheinungstag</th>\n",
       "      <th>Anzeigen-Text</th>\n",
       "      <th>Telefon - AP Anzeige</th>\n",
       "      <th>Anzeigenlink</th>\n",
       "      <th>Quelle</th>\n",
       "      <th>Stellen-ID</th>\n",
       "    </tr>\n",
       "  </thead>\n",
       "  <tbody>\n",
       "    <tr>\n",
       "      <th>0</th>\n",
       "      <td>Fraunhofer-Institut für Mikroelektronische Sch...</td>\n",
       "      <td>Duisburg</td>\n",
       "      <td>Frau</td>\n",
       "      <td>Schwarzkopf</td>\n",
       "      <td>anja.schwarzkopf@ims.fraunhofer.de</td>\n",
       "      <td>SOFTWAREENTWICKLERIN / SOFTWAREENTWICKLER FÜR ...</td>\n",
       "      <td>2020-02-14</td>\n",
       "      <td>Haben Sie Lust, ganz vorne dabei zu sein, wenn...</td>\n",
       "      <td>020337832913</td>\n",
       "      <td>https://db.advertsdata.com//matching/matching....</td>\n",
       "      <td>www.connecticum.de</td>\n",
       "      <td>300402864.0</td>\n",
       "    </tr>\n",
       "    <tr>\n",
       "      <th>1</th>\n",
       "      <td>Fraunhofer-Institut für Mikroelektronische Sch...</td>\n",
       "      <td>Duisburg</td>\n",
       "      <td>Frau</td>\n",
       "      <td>Schwarzkopf</td>\n",
       "      <td>anja.schwarzkopf@ims.fraunhofer.de</td>\n",
       "      <td>Softwareentwickler*in für den Bereich Messtechnik</td>\n",
       "      <td>2020-04-20</td>\n",
       "      <td>Haben Sie Lust, ganz vorne dabei zu sein, wenn...</td>\n",
       "      <td>020337832913</td>\n",
       "      <td>https://db.advertsdata.com//matching/matching....</td>\n",
       "      <td>www.connecticum.de</td>\n",
       "      <td>300402864.0</td>\n",
       "    </tr>\n",
       "    <tr>\n",
       "      <th>2</th>\n",
       "      <td>IKS GmbH</td>\n",
       "      <td>Hilden</td>\n",
       "      <td>Frau</td>\n",
       "      <td>Paulus-Käser</td>\n",
       "      <td>info@iks-gmbh.com</td>\n",
       "      <td>Softwareentwickler (m/w/d) für System i (AS/40...</td>\n",
       "      <td>2020-03-13</td>\n",
       "      <td>Softwareentwickler (m/w/d) für System i (AS/40...</td>\n",
       "      <td>NaN</td>\n",
       "      <td>https://db.advertsdata.com//matching/matching....</td>\n",
       "      <td>www.Xing.de</td>\n",
       "      <td>245481011.0</td>\n",
       "    </tr>\n",
       "    <tr>\n",
       "      <th>3</th>\n",
       "      <td>msg systems ag</td>\n",
       "      <td>Berlin, Frankfurt/M., Hamburg, Köln</td>\n",
       "      <td>NaN</td>\n",
       "      <td>NaN</td>\n",
       "      <td>info@msg-systems.com</td>\n",
       "      <td>Senior Softwareentwickler Web-Frontends Public...</td>\n",
       "      <td>2020-02-11</td>\n",
       "      <td>Jobs per E-Mail\\r\\n\\r\\nFür Arbeitgeber\\r\\n\\r\\n...</td>\n",
       "      <td>NaN</td>\n",
       "      <td>https://db.advertsdata.com//matching/matching....</td>\n",
       "      <td>www.StepStone.de</td>\n",
       "      <td>281563650.0</td>\n",
       "    </tr>\n",
       "    <tr>\n",
       "      <th>4</th>\n",
       "      <td>msg systems ag</td>\n",
       "      <td>10178 Berlin, 20095 Hamburg, 45121 Essen, 5066...</td>\n",
       "      <td>NaN</td>\n",
       "      <td>NaN</td>\n",
       "      <td>info@msg-systems.com</td>\n",
       "      <td>Softwareentwickler (m/w/d) – Travel &amp; Logistics</td>\n",
       "      <td>2020-02-21</td>\n",
       "      <td>Sie wollen in spannenden Projekten innovative ...</td>\n",
       "      <td>NaN</td>\n",
       "      <td>https://db.advertsdata.com//matching/matching....</td>\n",
       "      <td>www.yourfirm.de</td>\n",
       "      <td>292913651.0</td>\n",
       "    </tr>\n",
       "  </tbody>\n",
       "</table>\n",
       "</div>"
      ],
      "text/plain": [
       "                                         Unternehmen  \\\n",
       "0  Fraunhofer-Institut für Mikroelektronische Sch...   \n",
       "1  Fraunhofer-Institut für Mikroelektronische Sch...   \n",
       "2                                           IKS GmbH   \n",
       "3                                     msg systems ag   \n",
       "4                                     msg systems ag   \n",
       "\n",
       "                                          Einsatzort Anrede - AP Anzeige  \\\n",
       "0                                           Duisburg                Frau   \n",
       "1                                           Duisburg                Frau   \n",
       "2                                             Hilden                Frau   \n",
       "3                Berlin, Frankfurt/M., Hamburg, Köln                 NaN   \n",
       "4  10178 Berlin, 20095 Hamburg, 45121 Essen, 5066...                 NaN   \n",
       "\n",
       "  Nachname - AP Anzeige                 E-Mail - AP Anzeige  \\\n",
       "0           Schwarzkopf  anja.schwarzkopf@ims.fraunhofer.de   \n",
       "1           Schwarzkopf  anja.schwarzkopf@ims.fraunhofer.de   \n",
       "2          Paulus-Käser                   info@iks-gmbh.com   \n",
       "3                   NaN                info@msg-systems.com   \n",
       "4                   NaN                info@msg-systems.com   \n",
       "\n",
       "                                            Position Erscheinungstag  \\\n",
       "0  SOFTWAREENTWICKLERIN / SOFTWAREENTWICKLER FÜR ...      2020-02-14   \n",
       "1  Softwareentwickler*in für den Bereich Messtechnik      2020-04-20   \n",
       "2  Softwareentwickler (m/w/d) für System i (AS/40...      2020-03-13   \n",
       "3  Senior Softwareentwickler Web-Frontends Public...      2020-02-11   \n",
       "4    Softwareentwickler (m/w/d) – Travel & Logistics      2020-02-21   \n",
       "\n",
       "                                       Anzeigen-Text Telefon - AP Anzeige  \\\n",
       "0  Haben Sie Lust, ganz vorne dabei zu sein, wenn...         020337832913   \n",
       "1  Haben Sie Lust, ganz vorne dabei zu sein, wenn...         020337832913   \n",
       "2  Softwareentwickler (m/w/d) für System i (AS/40...                  NaN   \n",
       "3  Jobs per E-Mail\\r\\n\\r\\nFür Arbeitgeber\\r\\n\\r\\n...                  NaN   \n",
       "4  Sie wollen in spannenden Projekten innovative ...                  NaN   \n",
       "\n",
       "                                        Anzeigenlink              Quelle  \\\n",
       "0  https://db.advertsdata.com//matching/matching....  www.connecticum.de   \n",
       "1  https://db.advertsdata.com//matching/matching....  www.connecticum.de   \n",
       "2  https://db.advertsdata.com//matching/matching....         www.Xing.de   \n",
       "3  https://db.advertsdata.com//matching/matching....    www.StepStone.de   \n",
       "4  https://db.advertsdata.com//matching/matching....     www.yourfirm.de   \n",
       "\n",
       "    Stellen-ID  \n",
       "0  300402864.0  \n",
       "1  300402864.0  \n",
       "2  245481011.0  \n",
       "3  281563650.0  \n",
       "4  292913651.0  "
      ]
     },
     "execution_count": 2,
     "metadata": {},
     "output_type": "execute_result"
    }
   ],
   "source": [
    "job_data = pd.read_excel('job data_2078132_Düsseldorf_100km.xlsx', skiprows=[0,1,2], header = 1)\n",
    "job_data.head(5)"
   ]
  },
  {
   "cell_type": "code",
   "execution_count": 4,
   "metadata": {},
   "outputs": [
    {
     "data": {
      "text/plain": [
       "(2870, 12)"
      ]
     },
     "execution_count": 4,
     "metadata": {},
     "output_type": "execute_result"
    }
   ],
   "source": [
    "job_data.shape\n"
   ]
  },
  {
   "cell_type": "code",
   "execution_count": 5,
   "metadata": {},
   "outputs": [
    {
     "data": {
      "text/plain": [
       "Index(['Unternehmen', 'Einsatzort', 'Anrede - AP Anzeige',\n",
       "       'Nachname - AP Anzeige', 'E-Mail - AP Anzeige', 'Position',\n",
       "       'Erscheinungstag', 'Anzeigen-Text', 'Telefon - AP Anzeige',\n",
       "       'Anzeigenlink', 'Quelle', 'Stellen-ID'],\n",
       "      dtype='object')"
      ]
     },
     "execution_count": 5,
     "metadata": {},
     "output_type": "execute_result"
    }
   ],
   "source": [
    "job_data.columns"
   ]
  },
  {
   "cell_type": "code",
   "execution_count": 6,
   "metadata": {},
   "outputs": [
    {
     "data": {
      "text/plain": [
       "770"
      ]
     },
     "execution_count": 6,
     "metadata": {},
     "output_type": "execute_result"
    }
   ],
   "source": [
    "len(job_data.Unternehmen.unique())"
   ]
  },
  {
   "cell_type": "code",
   "execution_count": 7,
   "metadata": {},
   "outputs": [
    {
     "name": "stdout",
     "output_type": "stream",
     "text": [
      "Sie wollen in spannenden Projekten innovative IT-Lösungen für anspruchsvolle Kunden entwickeln? Möchten Sie mit uns komplexe Aufgabenstellungen lösen? Sie wollen Veränderungen in wechselnden Projektumfeldern aktiv begleiten? Wenn Sie sich zusätzlich für die Herausforderungen von Reise-, Verkehrs- und Logistikunternehmen interessieren, sind Sie bei uns richtig. Verstärken Sie unseren stark wachsenden Geschäftsbereich Travel & Logistics indem Sie für unsere renommierten Kunden (z.B. Dt. Post, Lufthansa) effiziente IT-Lösungen konzipieren, implementieren und integrieren.\n",
      "\n",
      "msg ist eine unabhängige Unternehmensgruppe mit weltweit mehr als 7.500 Mitarbeitenden. Unseren ausgezeichneten Ruf verdanken wir unserem ganzheitlichen Leistungsspektrum aus einfallsreicher strategischer Beratung und intelligenten, nachhaltig wertschöpfenden IT-Lösungen für eine Vielzahl von Branchen.\n",
      "\n",
      "Softwareentwickler (m/w/d) – Travel & Logistics\n",
      "\n",
      "Für den/die Standort(e): Frankfurt/M., Berlin, Essen, Hamburg, Köln\n",
      "\n",
      "Das erwartet Sie bei uns\n",
      "\n",
      "Analyse, Konzeption, Realisierung und Test von Software Systemen in anspruchsvollen Kundenprojekten\n",
      "\n",
      "Mitarbeit beim Entwurf, der Abstimmung und der Konzeption von System- und Softwarearchitekturen\n",
      "\n",
      "Eigenverantwortliches Arbeiten mit aktuellen Technologien\n",
      "\n",
      "Das bringen Sie mit\n",
      "\n",
      "Abgeschlossenes IT-Studium oder eine vergleichbare Qualifikation\n",
      "\n",
      "Kenntnisse in mindestens einer objektorientierten Programmiersprache\n",
      "\n",
      "Sehr gute Kenntnisse in Java EE, Spring und JPA oder sehr gute Kenntnisse in JavaScript, HTML5 und CSS oder sehr gute Kenntnisse in .NET\n",
      "\n",
      "Sehr gute Kenntnisse in: Agilem Projektvorgehen (z.B. Scrum), verteilte Umgebungen, Datenbanken, Continuous Integration, testgetriebener Entwicklung\n",
      "\n",
      "Sehr gute Deutschkenntnisse und gute Englischkenntnisse\n",
      "\n",
      "Das ist unser Angebot\n",
      "\n",
      "Suchen Sie Abwechslung statt Alltagsroutine? Teamspirit statt starrer Hierarchien? Dann sind Sie bei uns richtig. Wir bieten Ihnen spannende verantwortungsvolle Aufgaben, attraktive Karrierechancen und internationale Perspektiven. Mehr noch: Bei uns finden Sie ein flexibles Arbeitszeitmodell, großzügige Sozialleistungen und ein professionelles, kollegiales Arbeitsklima in einem hochmotivierten Team.\n",
      "\n",
      "Das ist Ihr Weg zu uns\n",
      "\n",
      "Sie sind neugierig geworden? Dann freuen wir uns über Ihre Onlinebewerbung unter Angabe Ihrer Gehaltsvorstellungen und der Kennziffer: msg-50046569-022 über unseren Bewerbungsassistenten .\n",
      "\n",
      "https://karriere.msg.group/\n",
      "\n"
     ]
    }
   ],
   "source": [
    "print(job_data['Anzeigen-Text'][4])"
   ]
  },
  {
   "cell_type": "code",
   "execution_count": 12,
   "metadata": {},
   "outputs": [
    {
     "data": {
      "text/plain": [
       "Position                                                                           \n",
       "Softwareentwickler (m/w/d)                                                             158\n",
       "Softwareentwickler Java (m/w/d)                                                         44\n",
       "Java Softwareentwickler (m/w/d)                                                         24\n",
       "Softwareentwickler (m/w/d) im Bereich Digital Engineering                               23\n",
       "IT-Systems-Engineer (m/w/d) {Softwareentwickler/in}                                     22\n",
       "Junior Softwareentwickler (m/w/d)                                                       19\n",
       "Softwareentwickler (w/m/d) Schwerpunkt Systemnahe Anwendungsentwicklung                 19\n",
       "Java / JEE / J2EE Entwickler gesucht (m/w/d) gesucht {Softwareentwickler/in}            19\n",
       "C#/.NET / VBA Entwickler (m/w/d) {Softwareentwickler/in}                                19\n",
       "Softwareentwickler/in                                                                   18\n",
       "(Junior) Softwareentwickler (Java) (m/w/d)                                              16\n",
       "Java-Applikations-Entwickler (m/w/d) {Softwareentwickler/in}                            16\n",
       "App-Entwickler Android/IOS gesucht (m/w/d) {Softwareentwickler/in}                      16\n",
       "Softwareentwickler (m/w/d) Java                                                         14\n",
       "Junior-Softwareentwickler (m/w/d) .NET / C# / JavaScript                                14\n",
       "Senior Softwareentwickler (m/w/d)                                                       13\n",
       "(Junior) Softwareentwickler / Software Developer (w/m/d) Robotic Process Automation     12\n",
       "Softwareentwickler im Consulting (m/w/d)                                                11\n",
       "Java-Softwareentwickler (w/m/d)                                                         11\n",
       "Softwareentwickler (w/m/d) Schwerpunkt: Systemnahe Anwendungsentwicklung                11\n",
       "dtype: int64"
      ]
     },
     "execution_count": 12,
     "metadata": {},
     "output_type": "execute_result"
    }
   ],
   "source": [
    "job_data[['Position']].value_counts().head(20)"
   ]
  },
  {
   "cell_type": "code",
   "execution_count": 37,
   "metadata": {},
   "outputs": [
    {
     "data": {
      "text/html": [
       "<div>\n",
       "<style scoped>\n",
       "    .dataframe tbody tr th:only-of-type {\n",
       "        vertical-align: middle;\n",
       "    }\n",
       "\n",
       "    .dataframe tbody tr th {\n",
       "        vertical-align: top;\n",
       "    }\n",
       "\n",
       "    .dataframe thead th {\n",
       "        text-align: right;\n",
       "    }\n",
       "</style>\n",
       "<table border=\"1\" class=\"dataframe\">\n",
       "  <thead>\n",
       "    <tr style=\"text-align: right;\">\n",
       "      <th></th>\n",
       "      <th>Unternehmen</th>\n",
       "      <th>Einsatzort</th>\n",
       "      <th>Anrede - AP Anzeige</th>\n",
       "      <th>Nachname - AP Anzeige</th>\n",
       "      <th>E-Mail - AP Anzeige</th>\n",
       "      <th>Position</th>\n",
       "      <th>Erscheinungstag</th>\n",
       "      <th>Anzeigen-Text</th>\n",
       "      <th>Telefon - AP Anzeige</th>\n",
       "      <th>Anzeigenlink</th>\n",
       "      <th>Quelle</th>\n",
       "      <th>Stellen-ID</th>\n",
       "    </tr>\n",
       "  </thead>\n",
       "  <tbody>\n",
       "    <tr>\n",
       "      <th>91</th>\n",
       "      <td>CAE Elektronik GmbH</td>\n",
       "      <td>Deutschland, Nordrhein-Westfalen, Stolberg (Rh...</td>\n",
       "      <td>NaN</td>\n",
       "      <td>NaN</td>\n",
       "      <td>personal@cae-gmbh.de</td>\n",
       "      <td>Softwareentwickler (m/w/d)</td>\n",
       "      <td>2020-06-22</td>\n",
       "      <td>Zur Verstärkung unseres Teams am Standort Stol...</td>\n",
       "      <td>NaN</td>\n",
       "      <td>https://db.advertsdata.com//matching/matching....</td>\n",
       "      <td>www.LinkedIn.de</td>\n",
       "      <td>312971178.0</td>\n",
       "    </tr>\n",
       "    <tr>\n",
       "      <th>136</th>\n",
       "      <td>Buhl Data Service GmbH</td>\n",
       "      <td>Aachen-Mitte</td>\n",
       "      <td>Frau</td>\n",
       "      <td>Illmer</td>\n",
       "      <td>kundenbetreuung@buhl.de</td>\n",
       "      <td>Softwareentwickler (m/w/d)</td>\n",
       "      <td>2020-04-02</td>\n",
       "      <td>Softwareentwickler (m/w/d) \\n\\n3,84 \\n\\nVon 19...</td>\n",
       "      <td>NaN</td>\n",
       "      <td>https://db.advertsdata.com//matching/matching....</td>\n",
       "      <td>www.Xing.de</td>\n",
       "      <td>297203187.0</td>\n",
       "    </tr>\n",
       "    <tr>\n",
       "      <th>145</th>\n",
       "      <td>REWE Group GmbH</td>\n",
       "      <td>Köln</td>\n",
       "      <td>NaN</td>\n",
       "      <td>NaN</td>\n",
       "      <td>info@rewe-group.com</td>\n",
       "      <td>Java Softwareentwickler (m/w/d)</td>\n",
       "      <td>2020-04-13</td>\n",
       "      <td>Jetzt bewerben » \\n\\nJava Softwareentwickler (...</td>\n",
       "      <td>NaN</td>\n",
       "      <td>https://db.advertsdata.com//matching/matching....</td>\n",
       "      <td>Firmenhomepage Deutschland</td>\n",
       "      <td>306667981.0</td>\n",
       "    </tr>\n",
       "    <tr>\n",
       "      <th>159</th>\n",
       "      <td>Büroring eG</td>\n",
       "      <td>Haan</td>\n",
       "      <td>Herr</td>\n",
       "      <td>Ricken</td>\n",
       "      <td>info@bueroring.de</td>\n",
       "      <td>Softwareentwickler (m/w/d)</td>\n",
       "      <td>2020-07-19</td>\n",
       "      <td>2020-07-24T09:35:04+01:00 \\n\\nDie Büroring eG...</td>\n",
       "      <td>0049021295571245</td>\n",
       "      <td>https://db.advertsdata.com//matching/matching....</td>\n",
       "      <td>Firmenhomepage Deutschland</td>\n",
       "      <td>316684192.0</td>\n",
       "    </tr>\n",
       "    <tr>\n",
       "      <th>160</th>\n",
       "      <td>Büroring eG</td>\n",
       "      <td>Haan</td>\n",
       "      <td>Herr</td>\n",
       "      <td>Ricken</td>\n",
       "      <td>it-jobs@bueroring.de</td>\n",
       "      <td>Softwareentwickler (m/w/d)</td>\n",
       "      <td>2020-07-28</td>\n",
       "      <td>Jobs per E-Mail\\r\\n\\r\\n% Für Arbeitgeber\\r\\n\\r...</td>\n",
       "      <td>0212955710</td>\n",
       "      <td>https://db.advertsdata.com//matching/matching....</td>\n",
       "      <td>www.StepStone.de</td>\n",
       "      <td>316684192.0</td>\n",
       "    </tr>\n",
       "    <tr>\n",
       "      <th>...</th>\n",
       "      <td>...</td>\n",
       "      <td>...</td>\n",
       "      <td>...</td>\n",
       "      <td>...</td>\n",
       "      <td>...</td>\n",
       "      <td>...</td>\n",
       "      <td>...</td>\n",
       "      <td>...</td>\n",
       "      <td>...</td>\n",
       "      <td>...</td>\n",
       "      <td>...</td>\n",
       "      <td>...</td>\n",
       "    </tr>\n",
       "    <tr>\n",
       "      <th>2698</th>\n",
       "      <td>prologistik GmbH &amp; Co KG</td>\n",
       "      <td>Dortmund</td>\n",
       "      <td>Herr</td>\n",
       "      <td>Elberich</td>\n",
       "      <td>info@prologistik.com</td>\n",
       "      <td>Softwareentwickler Java (m/w/d)</td>\n",
       "      <td>2020-03-26</td>\n",
       "      <td>Jobs per E-Mail\\r\\n\\r\\n% Für Arbeitgeber\\r\\n\\r...</td>\n",
       "      <td>NaN</td>\n",
       "      <td>https://db.advertsdata.com//matching/matching....</td>\n",
       "      <td>www.StepStone.de</td>\n",
       "      <td>259787855.0</td>\n",
       "    </tr>\n",
       "    <tr>\n",
       "      <th>2764</th>\n",
       "      <td>Deutsche Paletten Logistik GmbH</td>\n",
       "      <td>Soest</td>\n",
       "      <td>Herr</td>\n",
       "      <td>Mai</td>\n",
       "      <td>info@online-paletten.com</td>\n",
       "      <td>Softwareentwickler (m/w/d)</td>\n",
       "      <td>2020-04-07</td>\n",
       "      <td>Softwareentwickler (m/w/d)\\n\\nDPL Deutsche Pal...</td>\n",
       "      <td>0292178990</td>\n",
       "      <td>https://db.advertsdata.com//matching/matching....</td>\n",
       "      <td>www.indeed.de (Websites)</td>\n",
       "      <td>306298599.0</td>\n",
       "    </tr>\n",
       "    <tr>\n",
       "      <th>2769</th>\n",
       "      <td>Berge &amp; Meer Touristik GmbH</td>\n",
       "      <td>Köln</td>\n",
       "      <td>NaN</td>\n",
       "      <td>NaN</td>\n",
       "      <td>info@berge-meer.de</td>\n",
       "      <td>Softwareentwickler (m/w/d)</td>\n",
       "      <td>2020-03-13</td>\n",
       "      <td>Softwareentwickler (m/w/d)\\n\\nBerge &amp; Meer Tou...</td>\n",
       "      <td>NaN</td>\n",
       "      <td>https://db.advertsdata.com//matching/matching....</td>\n",
       "      <td>www.indeed.de (Direct)</td>\n",
       "      <td>304082978.0</td>\n",
       "    </tr>\n",
       "    <tr>\n",
       "      <th>2791</th>\n",
       "      <td>HKS Informatik GmbH</td>\n",
       "      <td>Moers</td>\n",
       "      <td>Herr</td>\n",
       "      <td>Bauten</td>\n",
       "      <td>info@hksinformatik.de</td>\n",
       "      <td>Softwareentwickler (m/w/d)</td>\n",
       "      <td>2020-03-14</td>\n",
       "      <td>Karriere  \\nEntwicklung \\n\\nKarriere als Entwi...</td>\n",
       "      <td>00492841880570</td>\n",
       "      <td>https://db.advertsdata.com//matching/matching....</td>\n",
       "      <td>Firmenhomepage Deutschland</td>\n",
       "      <td>304269601.0</td>\n",
       "    </tr>\n",
       "    <tr>\n",
       "      <th>2792</th>\n",
       "      <td>HKS Informatik GmbH</td>\n",
       "      <td>Moers</td>\n",
       "      <td>Herr</td>\n",
       "      <td>Bauten</td>\n",
       "      <td>info@hksinformatik.de</td>\n",
       "      <td>Softwareentwickler (m/w/d)</td>\n",
       "      <td>2020-04-28</td>\n",
       "      <td>Softwareentwickler (m/w/d)\\n\\nHKS Informatik G...</td>\n",
       "      <td>00492841880570</td>\n",
       "      <td>https://db.advertsdata.com//matching/matching....</td>\n",
       "      <td>www.indeed.de (Direct)</td>\n",
       "      <td>304269601.0</td>\n",
       "    </tr>\n",
       "  </tbody>\n",
       "</table>\n",
       "<p>365 rows × 12 columns</p>\n",
       "</div>"
      ],
      "text/plain": [
       "                          Unternehmen  \\\n",
       "91                CAE Elektronik GmbH   \n",
       "136            Buhl Data Service GmbH   \n",
       "145                   REWE Group GmbH   \n",
       "159                       Büroring eG   \n",
       "160                       Büroring eG   \n",
       "...                               ...   \n",
       "2698         prologistik GmbH & Co KG   \n",
       "2764  Deutsche Paletten Logistik GmbH   \n",
       "2769      Berge & Meer Touristik GmbH   \n",
       "2791              HKS Informatik GmbH   \n",
       "2792              HKS Informatik GmbH   \n",
       "\n",
       "                                             Einsatzort Anrede - AP Anzeige  \\\n",
       "91    Deutschland, Nordrhein-Westfalen, Stolberg (Rh...                 NaN   \n",
       "136                                        Aachen-Mitte                Frau   \n",
       "145                                                Köln                 NaN   \n",
       "159                                                Haan                Herr   \n",
       "160                                                Haan                Herr   \n",
       "...                                                 ...                 ...   \n",
       "2698                                           Dortmund                Herr   \n",
       "2764                                              Soest                Herr   \n",
       "2769                                               Köln                 NaN   \n",
       "2791                                              Moers                Herr   \n",
       "2792                                              Moers                Herr   \n",
       "\n",
       "     Nachname - AP Anzeige       E-Mail - AP Anzeige  \\\n",
       "91                     NaN      personal@cae-gmbh.de   \n",
       "136                 Illmer   kundenbetreuung@buhl.de   \n",
       "145                    NaN       info@rewe-group.com   \n",
       "159                 Ricken         info@bueroring.de   \n",
       "160                 Ricken      it-jobs@bueroring.de   \n",
       "...                    ...                       ...   \n",
       "2698              Elberich      info@prologistik.com   \n",
       "2764                   Mai  info@online-paletten.com   \n",
       "2769                   NaN        info@berge-meer.de   \n",
       "2791                Bauten     info@hksinformatik.de   \n",
       "2792                Bauten     info@hksinformatik.de   \n",
       "\n",
       "                             Position Erscheinungstag  \\\n",
       "91         Softwareentwickler (m/w/d)      2020-06-22   \n",
       "136        Softwareentwickler (m/w/d)      2020-04-02   \n",
       "145   Java Softwareentwickler (m/w/d)      2020-04-13   \n",
       "159        Softwareentwickler (m/w/d)      2020-07-19   \n",
       "160        Softwareentwickler (m/w/d)      2020-07-28   \n",
       "...                               ...             ...   \n",
       "2698  Softwareentwickler Java (m/w/d)      2020-03-26   \n",
       "2764       Softwareentwickler (m/w/d)      2020-04-07   \n",
       "2769       Softwareentwickler (m/w/d)      2020-03-13   \n",
       "2791       Softwareentwickler (m/w/d)      2020-03-14   \n",
       "2792       Softwareentwickler (m/w/d)      2020-04-28   \n",
       "\n",
       "                                          Anzeigen-Text Telefon - AP Anzeige  \\\n",
       "91    Zur Verstärkung unseres Teams am Standort Stol...                  NaN   \n",
       "136   Softwareentwickler (m/w/d) \\n\\n3,84 \\n\\nVon 19...                  NaN   \n",
       "145   Jetzt bewerben » \\n\\nJava Softwareentwickler (...                  NaN   \n",
       "159   2020-07-24T09:35:04+01:00 \\n\\nDie Büroring eG...     0049021295571245   \n",
       "160   Jobs per E-Mail\\r\\n\\r\\n% Für Arbeitgeber\\r\\n\\r...           0212955710   \n",
       "...                                                 ...                  ...   \n",
       "2698  Jobs per E-Mail\\r\\n\\r\\n% Für Arbeitgeber\\r\\n\\r...                  NaN   \n",
       "2764  Softwareentwickler (m/w/d)\\n\\nDPL Deutsche Pal...           0292178990   \n",
       "2769  Softwareentwickler (m/w/d)\\n\\nBerge & Meer Tou...                  NaN   \n",
       "2791  Karriere  \\nEntwicklung \\n\\nKarriere als Entwi...       00492841880570   \n",
       "2792  Softwareentwickler (m/w/d)\\n\\nHKS Informatik G...       00492841880570   \n",
       "\n",
       "                                           Anzeigenlink  \\\n",
       "91    https://db.advertsdata.com//matching/matching....   \n",
       "136   https://db.advertsdata.com//matching/matching....   \n",
       "145   https://db.advertsdata.com//matching/matching....   \n",
       "159   https://db.advertsdata.com//matching/matching....   \n",
       "160   https://db.advertsdata.com//matching/matching....   \n",
       "...                                                 ...   \n",
       "2698  https://db.advertsdata.com//matching/matching....   \n",
       "2764  https://db.advertsdata.com//matching/matching....   \n",
       "2769  https://db.advertsdata.com//matching/matching....   \n",
       "2791  https://db.advertsdata.com//matching/matching....   \n",
       "2792  https://db.advertsdata.com//matching/matching....   \n",
       "\n",
       "                          Quelle   Stellen-ID  \n",
       "91               www.LinkedIn.de  312971178.0  \n",
       "136                  www.Xing.de  297203187.0  \n",
       "145   Firmenhomepage Deutschland  306667981.0  \n",
       "159   Firmenhomepage Deutschland  316684192.0  \n",
       "160             www.StepStone.de  316684192.0  \n",
       "...                          ...          ...  \n",
       "2698            www.StepStone.de  259787855.0  \n",
       "2764    www.indeed.de (Websites)  306298599.0  \n",
       "2769      www.indeed.de (Direct)  304082978.0  \n",
       "2791  Firmenhomepage Deutschland  304269601.0  \n",
       "2792      www.indeed.de (Direct)  304269601.0  \n",
       "\n",
       "[365 rows x 12 columns]"
      ]
     },
     "execution_count": 37,
     "metadata": {},
     "output_type": "execute_result"
    }
   ],
   "source": [
    "toppositions = job_data[['Position']].value_counts().head(10)\n",
    "toppositions_list = [toppositions.keys()[i][0] for i in range(10)]\n",
    "\n",
    "position_mask = job_data['Position'].isin(toppositions_list)\n",
    "tops_position = job_data[position_mask]\n",
    "#'Softwareentwickler (m/w/d)' in toppositions.keys()\n",
    "#job_data['Position'].isin(toppositions_list).unique()\n",
    "tops_position"
   ]
  },
  {
   "cell_type": "code",
   "execution_count": 38,
   "metadata": {},
   "outputs": [
    {
     "data": {
      "text/html": [
       "<div>\n",
       "<style scoped>\n",
       "    .dataframe tbody tr th:only-of-type {\n",
       "        vertical-align: middle;\n",
       "    }\n",
       "\n",
       "    .dataframe tbody tr th {\n",
       "        vertical-align: top;\n",
       "    }\n",
       "\n",
       "    .dataframe thead th {\n",
       "        text-align: right;\n",
       "    }\n",
       "</style>\n",
       "<table border=\"1\" class=\"dataframe\">\n",
       "  <thead>\n",
       "    <tr style=\"text-align: right;\">\n",
       "      <th></th>\n",
       "      <th>Position</th>\n",
       "      <th>number</th>\n",
       "    </tr>\n",
       "  </thead>\n",
       "  <tbody>\n",
       "    <tr>\n",
       "      <th>0</th>\n",
       "      <td>Softwareentwickler (m/w/d)</td>\n",
       "      <td>158</td>\n",
       "    </tr>\n",
       "    <tr>\n",
       "      <th>1</th>\n",
       "      <td>Softwareentwickler Java (m/w/d)</td>\n",
       "      <td>44</td>\n",
       "    </tr>\n",
       "    <tr>\n",
       "      <th>2</th>\n",
       "      <td>Java Softwareentwickler (m/w/d)</td>\n",
       "      <td>24</td>\n",
       "    </tr>\n",
       "    <tr>\n",
       "      <th>3</th>\n",
       "      <td>Softwareentwickler (m/w/d) im Bereich Digital ...</td>\n",
       "      <td>23</td>\n",
       "    </tr>\n",
       "    <tr>\n",
       "      <th>4</th>\n",
       "      <td>IT-Systems-Engineer (m/w/d) {Softwareentwickle...</td>\n",
       "      <td>22</td>\n",
       "    </tr>\n",
       "    <tr>\n",
       "      <th>5</th>\n",
       "      <td>Junior Softwareentwickler (m/w/d)</td>\n",
       "      <td>19</td>\n",
       "    </tr>\n",
       "    <tr>\n",
       "      <th>6</th>\n",
       "      <td>Softwareentwickler (w/m/d) Schwerpunkt Systemn...</td>\n",
       "      <td>19</td>\n",
       "    </tr>\n",
       "    <tr>\n",
       "      <th>7</th>\n",
       "      <td>Java / JEE / J2EE Entwickler gesucht (m/w/d) g...</td>\n",
       "      <td>19</td>\n",
       "    </tr>\n",
       "    <tr>\n",
       "      <th>8</th>\n",
       "      <td>C#/.NET / VBA Entwickler (m/w/d) {Softwareentw...</td>\n",
       "      <td>19</td>\n",
       "    </tr>\n",
       "    <tr>\n",
       "      <th>9</th>\n",
       "      <td>Softwareentwickler/in</td>\n",
       "      <td>18</td>\n",
       "    </tr>\n",
       "  </tbody>\n",
       "</table>\n",
       "</div>"
      ],
      "text/plain": [
       "                                            Position  number\n",
       "0                         Softwareentwickler (m/w/d)     158\n",
       "1                    Softwareentwickler Java (m/w/d)      44\n",
       "2                    Java Softwareentwickler (m/w/d)      24\n",
       "3  Softwareentwickler (m/w/d) im Bereich Digital ...      23\n",
       "4  IT-Systems-Engineer (m/w/d) {Softwareentwickle...      22\n",
       "5                  Junior Softwareentwickler (m/w/d)      19\n",
       "6  Softwareentwickler (w/m/d) Schwerpunkt Systemn...      19\n",
       "7  Java / JEE / J2EE Entwickler gesucht (m/w/d) g...      19\n",
       "8  C#/.NET / VBA Entwickler (m/w/d) {Softwareentw...      19\n",
       "9                              Softwareentwickler/in      18"
      ]
     },
     "execution_count": 38,
     "metadata": {},
     "output_type": "execute_result"
    }
   ],
   "source": [
    "df_toppositions = pd.DataFrame({'Position': toppositions_list, 'number': toppositions.values})\n",
    "df_toppositions"
   ]
  },
  {
   "cell_type": "code",
   "execution_count": 39,
   "metadata": {},
   "outputs": [
    {
     "data": {
      "application/vnd.plotly.v1+json": {
       "config": {
        "plotlyServerURL": "https://plot.ly"
       },
       "data": [
        {
         "domain": {
          "x": [
           0,
           1
          ],
          "y": [
           0,
           1
          ]
         },
         "hovertemplate": "Position=%{label}<br>number=%{value}<extra></extra>",
         "labels": [
          "Softwareentwickler (m/w/d)",
          "Softwareentwickler Java (m/w/d)",
          "Java Softwareentwickler (m/w/d)",
          "Softwareentwickler (m/w/d) im Bereich Digital Engineering",
          "IT-Systems-Engineer (m/w/d) {Softwareentwickler/in}",
          "Junior Softwareentwickler (m/w/d)",
          "Softwareentwickler (w/m/d) Schwerpunkt Systemnahe Anwendungsentwicklung",
          "Java / JEE / J2EE Entwickler gesucht (m/w/d) gesucht {Softwareentwickler/in}",
          "C#/.NET / VBA Entwickler (m/w/d) {Softwareentwickler/in}",
          "Softwareentwickler/in"
         ],
         "legendgroup": "",
         "name": "",
         "showlegend": true,
         "type": "pie",
         "values": [
          158,
          44,
          24,
          23,
          22,
          19,
          19,
          19,
          19,
          18
         ]
        }
       ],
       "layout": {
        "legend": {
         "tracegroupgap": 0
        },
        "template": {
         "data": {
          "bar": [
           {
            "error_x": {
             "color": "#2a3f5f"
            },
            "error_y": {
             "color": "#2a3f5f"
            },
            "marker": {
             "line": {
              "color": "#E5ECF6",
              "width": 0.5
             }
            },
            "type": "bar"
           }
          ],
          "barpolar": [
           {
            "marker": {
             "line": {
              "color": "#E5ECF6",
              "width": 0.5
             }
            },
            "type": "barpolar"
           }
          ],
          "carpet": [
           {
            "aaxis": {
             "endlinecolor": "#2a3f5f",
             "gridcolor": "white",
             "linecolor": "white",
             "minorgridcolor": "white",
             "startlinecolor": "#2a3f5f"
            },
            "baxis": {
             "endlinecolor": "#2a3f5f",
             "gridcolor": "white",
             "linecolor": "white",
             "minorgridcolor": "white",
             "startlinecolor": "#2a3f5f"
            },
            "type": "carpet"
           }
          ],
          "choropleth": [
           {
            "colorbar": {
             "outlinewidth": 0,
             "ticks": ""
            },
            "type": "choropleth"
           }
          ],
          "contour": [
           {
            "colorbar": {
             "outlinewidth": 0,
             "ticks": ""
            },
            "colorscale": [
             [
              0,
              "#0d0887"
             ],
             [
              0.1111111111111111,
              "#46039f"
             ],
             [
              0.2222222222222222,
              "#7201a8"
             ],
             [
              0.3333333333333333,
              "#9c179e"
             ],
             [
              0.4444444444444444,
              "#bd3786"
             ],
             [
              0.5555555555555556,
              "#d8576b"
             ],
             [
              0.6666666666666666,
              "#ed7953"
             ],
             [
              0.7777777777777778,
              "#fb9f3a"
             ],
             [
              0.8888888888888888,
              "#fdca26"
             ],
             [
              1,
              "#f0f921"
             ]
            ],
            "type": "contour"
           }
          ],
          "contourcarpet": [
           {
            "colorbar": {
             "outlinewidth": 0,
             "ticks": ""
            },
            "type": "contourcarpet"
           }
          ],
          "heatmap": [
           {
            "colorbar": {
             "outlinewidth": 0,
             "ticks": ""
            },
            "colorscale": [
             [
              0,
              "#0d0887"
             ],
             [
              0.1111111111111111,
              "#46039f"
             ],
             [
              0.2222222222222222,
              "#7201a8"
             ],
             [
              0.3333333333333333,
              "#9c179e"
             ],
             [
              0.4444444444444444,
              "#bd3786"
             ],
             [
              0.5555555555555556,
              "#d8576b"
             ],
             [
              0.6666666666666666,
              "#ed7953"
             ],
             [
              0.7777777777777778,
              "#fb9f3a"
             ],
             [
              0.8888888888888888,
              "#fdca26"
             ],
             [
              1,
              "#f0f921"
             ]
            ],
            "type": "heatmap"
           }
          ],
          "heatmapgl": [
           {
            "colorbar": {
             "outlinewidth": 0,
             "ticks": ""
            },
            "colorscale": [
             [
              0,
              "#0d0887"
             ],
             [
              0.1111111111111111,
              "#46039f"
             ],
             [
              0.2222222222222222,
              "#7201a8"
             ],
             [
              0.3333333333333333,
              "#9c179e"
             ],
             [
              0.4444444444444444,
              "#bd3786"
             ],
             [
              0.5555555555555556,
              "#d8576b"
             ],
             [
              0.6666666666666666,
              "#ed7953"
             ],
             [
              0.7777777777777778,
              "#fb9f3a"
             ],
             [
              0.8888888888888888,
              "#fdca26"
             ],
             [
              1,
              "#f0f921"
             ]
            ],
            "type": "heatmapgl"
           }
          ],
          "histogram": [
           {
            "marker": {
             "colorbar": {
              "outlinewidth": 0,
              "ticks": ""
             }
            },
            "type": "histogram"
           }
          ],
          "histogram2d": [
           {
            "colorbar": {
             "outlinewidth": 0,
             "ticks": ""
            },
            "colorscale": [
             [
              0,
              "#0d0887"
             ],
             [
              0.1111111111111111,
              "#46039f"
             ],
             [
              0.2222222222222222,
              "#7201a8"
             ],
             [
              0.3333333333333333,
              "#9c179e"
             ],
             [
              0.4444444444444444,
              "#bd3786"
             ],
             [
              0.5555555555555556,
              "#d8576b"
             ],
             [
              0.6666666666666666,
              "#ed7953"
             ],
             [
              0.7777777777777778,
              "#fb9f3a"
             ],
             [
              0.8888888888888888,
              "#fdca26"
             ],
             [
              1,
              "#f0f921"
             ]
            ],
            "type": "histogram2d"
           }
          ],
          "histogram2dcontour": [
           {
            "colorbar": {
             "outlinewidth": 0,
             "ticks": ""
            },
            "colorscale": [
             [
              0,
              "#0d0887"
             ],
             [
              0.1111111111111111,
              "#46039f"
             ],
             [
              0.2222222222222222,
              "#7201a8"
             ],
             [
              0.3333333333333333,
              "#9c179e"
             ],
             [
              0.4444444444444444,
              "#bd3786"
             ],
             [
              0.5555555555555556,
              "#d8576b"
             ],
             [
              0.6666666666666666,
              "#ed7953"
             ],
             [
              0.7777777777777778,
              "#fb9f3a"
             ],
             [
              0.8888888888888888,
              "#fdca26"
             ],
             [
              1,
              "#f0f921"
             ]
            ],
            "type": "histogram2dcontour"
           }
          ],
          "mesh3d": [
           {
            "colorbar": {
             "outlinewidth": 0,
             "ticks": ""
            },
            "type": "mesh3d"
           }
          ],
          "parcoords": [
           {
            "line": {
             "colorbar": {
              "outlinewidth": 0,
              "ticks": ""
             }
            },
            "type": "parcoords"
           }
          ],
          "pie": [
           {
            "automargin": true,
            "type": "pie"
           }
          ],
          "scatter": [
           {
            "marker": {
             "colorbar": {
              "outlinewidth": 0,
              "ticks": ""
             }
            },
            "type": "scatter"
           }
          ],
          "scatter3d": [
           {
            "line": {
             "colorbar": {
              "outlinewidth": 0,
              "ticks": ""
             }
            },
            "marker": {
             "colorbar": {
              "outlinewidth": 0,
              "ticks": ""
             }
            },
            "type": "scatter3d"
           }
          ],
          "scattercarpet": [
           {
            "marker": {
             "colorbar": {
              "outlinewidth": 0,
              "ticks": ""
             }
            },
            "type": "scattercarpet"
           }
          ],
          "scattergeo": [
           {
            "marker": {
             "colorbar": {
              "outlinewidth": 0,
              "ticks": ""
             }
            },
            "type": "scattergeo"
           }
          ],
          "scattergl": [
           {
            "marker": {
             "colorbar": {
              "outlinewidth": 0,
              "ticks": ""
             }
            },
            "type": "scattergl"
           }
          ],
          "scattermapbox": [
           {
            "marker": {
             "colorbar": {
              "outlinewidth": 0,
              "ticks": ""
             }
            },
            "type": "scattermapbox"
           }
          ],
          "scatterpolar": [
           {
            "marker": {
             "colorbar": {
              "outlinewidth": 0,
              "ticks": ""
             }
            },
            "type": "scatterpolar"
           }
          ],
          "scatterpolargl": [
           {
            "marker": {
             "colorbar": {
              "outlinewidth": 0,
              "ticks": ""
             }
            },
            "type": "scatterpolargl"
           }
          ],
          "scatterternary": [
           {
            "marker": {
             "colorbar": {
              "outlinewidth": 0,
              "ticks": ""
             }
            },
            "type": "scatterternary"
           }
          ],
          "surface": [
           {
            "colorbar": {
             "outlinewidth": 0,
             "ticks": ""
            },
            "colorscale": [
             [
              0,
              "#0d0887"
             ],
             [
              0.1111111111111111,
              "#46039f"
             ],
             [
              0.2222222222222222,
              "#7201a8"
             ],
             [
              0.3333333333333333,
              "#9c179e"
             ],
             [
              0.4444444444444444,
              "#bd3786"
             ],
             [
              0.5555555555555556,
              "#d8576b"
             ],
             [
              0.6666666666666666,
              "#ed7953"
             ],
             [
              0.7777777777777778,
              "#fb9f3a"
             ],
             [
              0.8888888888888888,
              "#fdca26"
             ],
             [
              1,
              "#f0f921"
             ]
            ],
            "type": "surface"
           }
          ],
          "table": [
           {
            "cells": {
             "fill": {
              "color": "#EBF0F8"
             },
             "line": {
              "color": "white"
             }
            },
            "header": {
             "fill": {
              "color": "#C8D4E3"
             },
             "line": {
              "color": "white"
             }
            },
            "type": "table"
           }
          ]
         },
         "layout": {
          "annotationdefaults": {
           "arrowcolor": "#2a3f5f",
           "arrowhead": 0,
           "arrowwidth": 1
          },
          "coloraxis": {
           "colorbar": {
            "outlinewidth": 0,
            "ticks": ""
           }
          },
          "colorscale": {
           "diverging": [
            [
             0,
             "#8e0152"
            ],
            [
             0.1,
             "#c51b7d"
            ],
            [
             0.2,
             "#de77ae"
            ],
            [
             0.3,
             "#f1b6da"
            ],
            [
             0.4,
             "#fde0ef"
            ],
            [
             0.5,
             "#f7f7f7"
            ],
            [
             0.6,
             "#e6f5d0"
            ],
            [
             0.7,
             "#b8e186"
            ],
            [
             0.8,
             "#7fbc41"
            ],
            [
             0.9,
             "#4d9221"
            ],
            [
             1,
             "#276419"
            ]
           ],
           "sequential": [
            [
             0,
             "#0d0887"
            ],
            [
             0.1111111111111111,
             "#46039f"
            ],
            [
             0.2222222222222222,
             "#7201a8"
            ],
            [
             0.3333333333333333,
             "#9c179e"
            ],
            [
             0.4444444444444444,
             "#bd3786"
            ],
            [
             0.5555555555555556,
             "#d8576b"
            ],
            [
             0.6666666666666666,
             "#ed7953"
            ],
            [
             0.7777777777777778,
             "#fb9f3a"
            ],
            [
             0.8888888888888888,
             "#fdca26"
            ],
            [
             1,
             "#f0f921"
            ]
           ],
           "sequentialminus": [
            [
             0,
             "#0d0887"
            ],
            [
             0.1111111111111111,
             "#46039f"
            ],
            [
             0.2222222222222222,
             "#7201a8"
            ],
            [
             0.3333333333333333,
             "#9c179e"
            ],
            [
             0.4444444444444444,
             "#bd3786"
            ],
            [
             0.5555555555555556,
             "#d8576b"
            ],
            [
             0.6666666666666666,
             "#ed7953"
            ],
            [
             0.7777777777777778,
             "#fb9f3a"
            ],
            [
             0.8888888888888888,
             "#fdca26"
            ],
            [
             1,
             "#f0f921"
            ]
           ]
          },
          "colorway": [
           "#636efa",
           "#EF553B",
           "#00cc96",
           "#ab63fa",
           "#FFA15A",
           "#19d3f3",
           "#FF6692",
           "#B6E880",
           "#FF97FF",
           "#FECB52"
          ],
          "font": {
           "color": "#2a3f5f"
          },
          "geo": {
           "bgcolor": "white",
           "lakecolor": "white",
           "landcolor": "#E5ECF6",
           "showlakes": true,
           "showland": true,
           "subunitcolor": "white"
          },
          "hoverlabel": {
           "align": "left"
          },
          "hovermode": "closest",
          "mapbox": {
           "style": "light"
          },
          "paper_bgcolor": "white",
          "plot_bgcolor": "#E5ECF6",
          "polar": {
           "angularaxis": {
            "gridcolor": "white",
            "linecolor": "white",
            "ticks": ""
           },
           "bgcolor": "#E5ECF6",
           "radialaxis": {
            "gridcolor": "white",
            "linecolor": "white",
            "ticks": ""
           }
          },
          "scene": {
           "xaxis": {
            "backgroundcolor": "#E5ECF6",
            "gridcolor": "white",
            "gridwidth": 2,
            "linecolor": "white",
            "showbackground": true,
            "ticks": "",
            "zerolinecolor": "white"
           },
           "yaxis": {
            "backgroundcolor": "#E5ECF6",
            "gridcolor": "white",
            "gridwidth": 2,
            "linecolor": "white",
            "showbackground": true,
            "ticks": "",
            "zerolinecolor": "white"
           },
           "zaxis": {
            "backgroundcolor": "#E5ECF6",
            "gridcolor": "white",
            "gridwidth": 2,
            "linecolor": "white",
            "showbackground": true,
            "ticks": "",
            "zerolinecolor": "white"
           }
          },
          "shapedefaults": {
           "line": {
            "color": "#2a3f5f"
           }
          },
          "ternary": {
           "aaxis": {
            "gridcolor": "white",
            "linecolor": "white",
            "ticks": ""
           },
           "baxis": {
            "gridcolor": "white",
            "linecolor": "white",
            "ticks": ""
           },
           "bgcolor": "#E5ECF6",
           "caxis": {
            "gridcolor": "white",
            "linecolor": "white",
            "ticks": ""
           }
          },
          "title": {
           "x": 0.05
          },
          "xaxis": {
           "automargin": true,
           "gridcolor": "white",
           "linecolor": "white",
           "ticks": "",
           "title": {
            "standoff": 15
           },
           "zerolinecolor": "white",
           "zerolinewidth": 2
          },
          "yaxis": {
           "automargin": true,
           "gridcolor": "white",
           "linecolor": "white",
           "ticks": "",
           "title": {
            "standoff": 15
           },
           "zerolinecolor": "white",
           "zerolinewidth": 2
          }
         }
        },
        "title": {
         "text": "top 10 jobs"
        }
       }
      },
      "text/html": [
       "<div>                            <div id=\"a3b0500e-7059-4029-ab20-050100571fb1\" class=\"plotly-graph-div\" style=\"height:525px; width:100%;\"></div>            <script type=\"text/javascript\">                require([\"plotly\"], function(Plotly) {                    window.PLOTLYENV=window.PLOTLYENV || {};                                    if (document.getElementById(\"a3b0500e-7059-4029-ab20-050100571fb1\")) {                    Plotly.newPlot(                        \"a3b0500e-7059-4029-ab20-050100571fb1\",                        [{\"domain\": {\"x\": [0.0, 1.0], \"y\": [0.0, 1.0]}, \"hovertemplate\": \"Position=%{label}<br>number=%{value}<extra></extra>\", \"labels\": [\"Softwareentwickler (m/w/d)\", \"Softwareentwickler Java (m/w/d)\", \"Java Softwareentwickler (m/w/d)\", \"Softwareentwickler (m/w/d) im Bereich Digital Engineering\", \"IT-Systems-Engineer (m/w/d) {Softwareentwickler/in}\", \"Junior Softwareentwickler (m/w/d)\", \"Softwareentwickler (w/m/d) Schwerpunkt Systemnahe Anwendungsentwicklung\", \"Java / JEE / J2EE Entwickler gesucht (m/w/d) gesucht {Softwareentwickler/in}\", \"C#/.NET / VBA Entwickler (m/w/d) {Softwareentwickler/in}\", \"Softwareentwickler/in\"], \"legendgroup\": \"\", \"name\": \"\", \"showlegend\": true, \"type\": \"pie\", \"values\": [158, 44, 24, 23, 22, 19, 19, 19, 19, 18]}],                        {\"legend\": {\"tracegroupgap\": 0}, \"template\": {\"data\": {\"bar\": [{\"error_x\": {\"color\": \"#2a3f5f\"}, \"error_y\": {\"color\": \"#2a3f5f\"}, \"marker\": {\"line\": {\"color\": \"#E5ECF6\", \"width\": 0.5}}, \"type\": \"bar\"}], \"barpolar\": [{\"marker\": {\"line\": {\"color\": \"#E5ECF6\", \"width\": 0.5}}, \"type\": \"barpolar\"}], \"carpet\": [{\"aaxis\": {\"endlinecolor\": \"#2a3f5f\", \"gridcolor\": \"white\", \"linecolor\": \"white\", \"minorgridcolor\": \"white\", \"startlinecolor\": \"#2a3f5f\"}, \"baxis\": {\"endlinecolor\": \"#2a3f5f\", \"gridcolor\": \"white\", \"linecolor\": \"white\", \"minorgridcolor\": \"white\", \"startlinecolor\": \"#2a3f5f\"}, \"type\": \"carpet\"}], \"choropleth\": [{\"colorbar\": {\"outlinewidth\": 0, \"ticks\": \"\"}, \"type\": \"choropleth\"}], \"contour\": [{\"colorbar\": {\"outlinewidth\": 0, \"ticks\": \"\"}, \"colorscale\": [[0.0, \"#0d0887\"], [0.1111111111111111, \"#46039f\"], [0.2222222222222222, \"#7201a8\"], [0.3333333333333333, \"#9c179e\"], [0.4444444444444444, \"#bd3786\"], [0.5555555555555556, \"#d8576b\"], [0.6666666666666666, \"#ed7953\"], [0.7777777777777778, \"#fb9f3a\"], [0.8888888888888888, \"#fdca26\"], [1.0, \"#f0f921\"]], \"type\": \"contour\"}], \"contourcarpet\": [{\"colorbar\": {\"outlinewidth\": 0, \"ticks\": \"\"}, \"type\": \"contourcarpet\"}], \"heatmap\": [{\"colorbar\": {\"outlinewidth\": 0, \"ticks\": \"\"}, \"colorscale\": [[0.0, \"#0d0887\"], [0.1111111111111111, \"#46039f\"], [0.2222222222222222, \"#7201a8\"], [0.3333333333333333, \"#9c179e\"], [0.4444444444444444, \"#bd3786\"], [0.5555555555555556, \"#d8576b\"], [0.6666666666666666, \"#ed7953\"], [0.7777777777777778, \"#fb9f3a\"], [0.8888888888888888, \"#fdca26\"], [1.0, \"#f0f921\"]], \"type\": \"heatmap\"}], \"heatmapgl\": [{\"colorbar\": {\"outlinewidth\": 0, \"ticks\": \"\"}, \"colorscale\": [[0.0, \"#0d0887\"], [0.1111111111111111, \"#46039f\"], [0.2222222222222222, \"#7201a8\"], [0.3333333333333333, \"#9c179e\"], [0.4444444444444444, \"#bd3786\"], [0.5555555555555556, \"#d8576b\"], [0.6666666666666666, \"#ed7953\"], [0.7777777777777778, \"#fb9f3a\"], [0.8888888888888888, \"#fdca26\"], [1.0, \"#f0f921\"]], \"type\": \"heatmapgl\"}], \"histogram\": [{\"marker\": {\"colorbar\": {\"outlinewidth\": 0, \"ticks\": \"\"}}, \"type\": \"histogram\"}], \"histogram2d\": [{\"colorbar\": {\"outlinewidth\": 0, \"ticks\": \"\"}, \"colorscale\": [[0.0, \"#0d0887\"], [0.1111111111111111, \"#46039f\"], [0.2222222222222222, \"#7201a8\"], [0.3333333333333333, \"#9c179e\"], [0.4444444444444444, \"#bd3786\"], [0.5555555555555556, \"#d8576b\"], [0.6666666666666666, \"#ed7953\"], [0.7777777777777778, \"#fb9f3a\"], [0.8888888888888888, \"#fdca26\"], [1.0, \"#f0f921\"]], \"type\": \"histogram2d\"}], \"histogram2dcontour\": [{\"colorbar\": {\"outlinewidth\": 0, \"ticks\": \"\"}, \"colorscale\": [[0.0, \"#0d0887\"], [0.1111111111111111, \"#46039f\"], [0.2222222222222222, \"#7201a8\"], [0.3333333333333333, \"#9c179e\"], [0.4444444444444444, \"#bd3786\"], [0.5555555555555556, \"#d8576b\"], [0.6666666666666666, \"#ed7953\"], [0.7777777777777778, \"#fb9f3a\"], [0.8888888888888888, \"#fdca26\"], [1.0, \"#f0f921\"]], \"type\": \"histogram2dcontour\"}], \"mesh3d\": [{\"colorbar\": {\"outlinewidth\": 0, \"ticks\": \"\"}, \"type\": \"mesh3d\"}], \"parcoords\": [{\"line\": {\"colorbar\": {\"outlinewidth\": 0, \"ticks\": \"\"}}, \"type\": \"parcoords\"}], \"pie\": [{\"automargin\": true, \"type\": \"pie\"}], \"scatter\": [{\"marker\": {\"colorbar\": {\"outlinewidth\": 0, \"ticks\": \"\"}}, \"type\": \"scatter\"}], \"scatter3d\": [{\"line\": {\"colorbar\": {\"outlinewidth\": 0, \"ticks\": \"\"}}, \"marker\": {\"colorbar\": {\"outlinewidth\": 0, \"ticks\": \"\"}}, \"type\": \"scatter3d\"}], \"scattercarpet\": [{\"marker\": {\"colorbar\": {\"outlinewidth\": 0, \"ticks\": \"\"}}, \"type\": \"scattercarpet\"}], \"scattergeo\": [{\"marker\": {\"colorbar\": {\"outlinewidth\": 0, \"ticks\": \"\"}}, \"type\": \"scattergeo\"}], \"scattergl\": [{\"marker\": {\"colorbar\": {\"outlinewidth\": 0, \"ticks\": \"\"}}, \"type\": \"scattergl\"}], \"scattermapbox\": [{\"marker\": {\"colorbar\": {\"outlinewidth\": 0, \"ticks\": \"\"}}, \"type\": \"scattermapbox\"}], \"scatterpolar\": [{\"marker\": {\"colorbar\": {\"outlinewidth\": 0, \"ticks\": \"\"}}, \"type\": \"scatterpolar\"}], \"scatterpolargl\": [{\"marker\": {\"colorbar\": {\"outlinewidth\": 0, \"ticks\": \"\"}}, \"type\": \"scatterpolargl\"}], \"scatterternary\": [{\"marker\": {\"colorbar\": {\"outlinewidth\": 0, \"ticks\": \"\"}}, \"type\": \"scatterternary\"}], \"surface\": [{\"colorbar\": {\"outlinewidth\": 0, \"ticks\": \"\"}, \"colorscale\": [[0.0, \"#0d0887\"], [0.1111111111111111, \"#46039f\"], [0.2222222222222222, \"#7201a8\"], [0.3333333333333333, \"#9c179e\"], [0.4444444444444444, \"#bd3786\"], [0.5555555555555556, \"#d8576b\"], [0.6666666666666666, \"#ed7953\"], [0.7777777777777778, \"#fb9f3a\"], [0.8888888888888888, \"#fdca26\"], [1.0, \"#f0f921\"]], \"type\": \"surface\"}], \"table\": [{\"cells\": {\"fill\": {\"color\": \"#EBF0F8\"}, \"line\": {\"color\": \"white\"}}, \"header\": {\"fill\": {\"color\": \"#C8D4E3\"}, \"line\": {\"color\": \"white\"}}, \"type\": \"table\"}]}, \"layout\": {\"annotationdefaults\": {\"arrowcolor\": \"#2a3f5f\", \"arrowhead\": 0, \"arrowwidth\": 1}, \"coloraxis\": {\"colorbar\": {\"outlinewidth\": 0, \"ticks\": \"\"}}, \"colorscale\": {\"diverging\": [[0, \"#8e0152\"], [0.1, \"#c51b7d\"], [0.2, \"#de77ae\"], [0.3, \"#f1b6da\"], [0.4, \"#fde0ef\"], [0.5, \"#f7f7f7\"], [0.6, \"#e6f5d0\"], [0.7, \"#b8e186\"], [0.8, \"#7fbc41\"], [0.9, \"#4d9221\"], [1, \"#276419\"]], \"sequential\": [[0.0, \"#0d0887\"], [0.1111111111111111, \"#46039f\"], [0.2222222222222222, \"#7201a8\"], [0.3333333333333333, \"#9c179e\"], [0.4444444444444444, \"#bd3786\"], [0.5555555555555556, \"#d8576b\"], [0.6666666666666666, \"#ed7953\"], [0.7777777777777778, \"#fb9f3a\"], [0.8888888888888888, \"#fdca26\"], [1.0, \"#f0f921\"]], \"sequentialminus\": [[0.0, \"#0d0887\"], [0.1111111111111111, \"#46039f\"], [0.2222222222222222, \"#7201a8\"], [0.3333333333333333, \"#9c179e\"], [0.4444444444444444, \"#bd3786\"], [0.5555555555555556, \"#d8576b\"], [0.6666666666666666, \"#ed7953\"], [0.7777777777777778, \"#fb9f3a\"], [0.8888888888888888, \"#fdca26\"], [1.0, \"#f0f921\"]]}, \"colorway\": [\"#636efa\", \"#EF553B\", \"#00cc96\", \"#ab63fa\", \"#FFA15A\", \"#19d3f3\", \"#FF6692\", \"#B6E880\", \"#FF97FF\", \"#FECB52\"], \"font\": {\"color\": \"#2a3f5f\"}, \"geo\": {\"bgcolor\": \"white\", \"lakecolor\": \"white\", \"landcolor\": \"#E5ECF6\", \"showlakes\": true, \"showland\": true, \"subunitcolor\": \"white\"}, \"hoverlabel\": {\"align\": \"left\"}, \"hovermode\": \"closest\", \"mapbox\": {\"style\": \"light\"}, \"paper_bgcolor\": \"white\", \"plot_bgcolor\": \"#E5ECF6\", \"polar\": {\"angularaxis\": {\"gridcolor\": \"white\", \"linecolor\": \"white\", \"ticks\": \"\"}, \"bgcolor\": \"#E5ECF6\", \"radialaxis\": {\"gridcolor\": \"white\", \"linecolor\": \"white\", \"ticks\": \"\"}}, \"scene\": {\"xaxis\": {\"backgroundcolor\": \"#E5ECF6\", \"gridcolor\": \"white\", \"gridwidth\": 2, \"linecolor\": \"white\", \"showbackground\": true, \"ticks\": \"\", \"zerolinecolor\": \"white\"}, \"yaxis\": {\"backgroundcolor\": \"#E5ECF6\", \"gridcolor\": \"white\", \"gridwidth\": 2, \"linecolor\": \"white\", \"showbackground\": true, \"ticks\": \"\", \"zerolinecolor\": \"white\"}, \"zaxis\": {\"backgroundcolor\": \"#E5ECF6\", \"gridcolor\": \"white\", \"gridwidth\": 2, \"linecolor\": \"white\", \"showbackground\": true, \"ticks\": \"\", \"zerolinecolor\": \"white\"}}, \"shapedefaults\": {\"line\": {\"color\": \"#2a3f5f\"}}, \"ternary\": {\"aaxis\": {\"gridcolor\": \"white\", \"linecolor\": \"white\", \"ticks\": \"\"}, \"baxis\": {\"gridcolor\": \"white\", \"linecolor\": \"white\", \"ticks\": \"\"}, \"bgcolor\": \"#E5ECF6\", \"caxis\": {\"gridcolor\": \"white\", \"linecolor\": \"white\", \"ticks\": \"\"}}, \"title\": {\"x\": 0.05}, \"xaxis\": {\"automargin\": true, \"gridcolor\": \"white\", \"linecolor\": \"white\", \"ticks\": \"\", \"title\": {\"standoff\": 15}, \"zerolinecolor\": \"white\", \"zerolinewidth\": 2}, \"yaxis\": {\"automargin\": true, \"gridcolor\": \"white\", \"linecolor\": \"white\", \"ticks\": \"\", \"title\": {\"standoff\": 15}, \"zerolinecolor\": \"white\", \"zerolinewidth\": 2}}}, \"title\": {\"text\": \"top 10 jobs\"}},                        {\"responsive\": true}                    ).then(function(){\n",
       "                            \n",
       "var gd = document.getElementById('a3b0500e-7059-4029-ab20-050100571fb1');\n",
       "var x = new MutationObserver(function (mutations, observer) {{\n",
       "        var display = window.getComputedStyle(gd).display;\n",
       "        if (!display || display === 'none') {{\n",
       "            console.log([gd, 'removed!']);\n",
       "            Plotly.purge(gd);\n",
       "            observer.disconnect();\n",
       "        }}\n",
       "}});\n",
       "\n",
       "// Listen for the removal of the full notebook cells\n",
       "var notebookContainer = gd.closest('#notebook-container');\n",
       "if (notebookContainer) {{\n",
       "    x.observe(notebookContainer, {childList: true});\n",
       "}}\n",
       "\n",
       "// Listen for the clearing of the current output cell\n",
       "var outputEl = gd.closest('.output');\n",
       "if (outputEl) {{\n",
       "    x.observe(outputEl, {childList: true});\n",
       "}}\n",
       "\n",
       "                        })                };                });            </script>        </div>"
      ]
     },
     "metadata": {},
     "output_type": "display_data"
    }
   ],
   "source": [
    "fig = px.pie(df_toppositions, values=df_toppositions.number, names=df_toppositions.Position, title='top 10 jobs')\n",
    "fig.show()"
   ]
  },
  {
   "cell_type": "code",
   "execution_count": 21,
   "metadata": {},
   "outputs": [
    {
     "data": {
      "text/plain": [
       "Quelle                    \n",
       "Bundesagentur für Arbeit      764\n",
       "www.StepStone.de              543\n",
       "Firmenhomepage Deutschland    444\n",
       "www.indeed.de (Websites)      128\n",
       "www.indeed.de (Direct)        110\n",
       "www.Xing.de                    93\n",
       "www.Stellenanzeigen.de         83\n",
       "www.indeed.de (Premium)        73\n",
       "www.Jobware.de                 73\n",
       "www.FAZJOB.net                 64\n",
       "www.Monster.de                 62\n",
       "www.yourfirm.de                58\n",
       "www.connecticum.de             57\n",
       "www.stackoverflow.com          51\n",
       "www.Sueddeutsche.de            29\n",
       "www.t3n.de                     27\n",
       "www.itsteps.de                 17\n",
       "www.jobvector.de               16\n",
       "www.Stellenwerk-Koeln.de       12\n",
       "www.LinkedIn.de                11\n",
       "dtype: int64"
      ]
     },
     "execution_count": 21,
     "metadata": {},
     "output_type": "execute_result"
    }
   ],
   "source": [
    "job_data[['Quelle']].value_counts().head(20)"
   ]
  },
  {
   "cell_type": "code",
   "execution_count": 40,
   "metadata": {},
   "outputs": [
    {
     "data": {
      "text/html": [
       "<div>\n",
       "<style scoped>\n",
       "    .dataframe tbody tr th:only-of-type {\n",
       "        vertical-align: middle;\n",
       "    }\n",
       "\n",
       "    .dataframe tbody tr th {\n",
       "        vertical-align: top;\n",
       "    }\n",
       "\n",
       "    .dataframe thead th {\n",
       "        text-align: right;\n",
       "    }\n",
       "</style>\n",
       "<table border=\"1\" class=\"dataframe\">\n",
       "  <thead>\n",
       "    <tr style=\"text-align: right;\">\n",
       "      <th></th>\n",
       "      <th>Unternehmen</th>\n",
       "      <th>Einsatzort</th>\n",
       "      <th>Anrede - AP Anzeige</th>\n",
       "      <th>Nachname - AP Anzeige</th>\n",
       "      <th>E-Mail - AP Anzeige</th>\n",
       "      <th>Position</th>\n",
       "      <th>Erscheinungstag</th>\n",
       "      <th>Anzeigen-Text</th>\n",
       "      <th>Telefon - AP Anzeige</th>\n",
       "      <th>Anzeigenlink</th>\n",
       "      <th>Quelle</th>\n",
       "      <th>Stellen-ID</th>\n",
       "    </tr>\n",
       "  </thead>\n",
       "  <tbody>\n",
       "    <tr>\n",
       "      <th>0</th>\n",
       "      <td>Fraunhofer-Institut für Mikroelektronische Sch...</td>\n",
       "      <td>Duisburg</td>\n",
       "      <td>Frau</td>\n",
       "      <td>Schwarzkopf</td>\n",
       "      <td>anja.schwarzkopf@ims.fraunhofer.de</td>\n",
       "      <td>SOFTWAREENTWICKLERIN / SOFTWAREENTWICKLER FÜR ...</td>\n",
       "      <td>2020-02-14</td>\n",
       "      <td>Haben Sie Lust, ganz vorne dabei zu sein, wenn...</td>\n",
       "      <td>020337832913</td>\n",
       "      <td>https://db.advertsdata.com//matching/matching....</td>\n",
       "      <td>www.connecticum.de</td>\n",
       "      <td>300402864.0</td>\n",
       "    </tr>\n",
       "    <tr>\n",
       "      <th>1</th>\n",
       "      <td>Fraunhofer-Institut für Mikroelektronische Sch...</td>\n",
       "      <td>Duisburg</td>\n",
       "      <td>Frau</td>\n",
       "      <td>Schwarzkopf</td>\n",
       "      <td>anja.schwarzkopf@ims.fraunhofer.de</td>\n",
       "      <td>Softwareentwickler*in für den Bereich Messtechnik</td>\n",
       "      <td>2020-04-20</td>\n",
       "      <td>Haben Sie Lust, ganz vorne dabei zu sein, wenn...</td>\n",
       "      <td>020337832913</td>\n",
       "      <td>https://db.advertsdata.com//matching/matching....</td>\n",
       "      <td>www.connecticum.de</td>\n",
       "      <td>300402864.0</td>\n",
       "    </tr>\n",
       "    <tr>\n",
       "      <th>40</th>\n",
       "      <td>Digatron Industrie Elektronik GmbH</td>\n",
       "      <td>Aachen</td>\n",
       "      <td>Herr</td>\n",
       "      <td>Bündgen</td>\n",
       "      <td>info@digatron.de</td>\n",
       "      <td>SOFTWAREENTWICKLER WINDOWS M/W/D am Standort A...</td>\n",
       "      <td>2020-02-07</td>\n",
       "      <td>FRAGEN?\\n\\n0241 168 09 0\\njobs@digatron.de\\n\\n...</td>\n",
       "      <td>0049241168090</td>\n",
       "      <td>https://db.advertsdata.com//matching/matching....</td>\n",
       "      <td>Firmenhomepage Deutschland</td>\n",
       "      <td>300190837.0</td>\n",
       "    </tr>\n",
       "    <tr>\n",
       "      <th>41</th>\n",
       "      <td>Digatron Industrie Elektronik GmbH</td>\n",
       "      <td>Aachen</td>\n",
       "      <td>Herr</td>\n",
       "      <td>Bündgen</td>\n",
       "      <td>info@digatron.de</td>\n",
       "      <td>Karriere » Softwareentwickler Embedded Systeme...</td>\n",
       "      <td>2020-02-07</td>\n",
       "      <td>» Softwareentwickler Embedded Systeme und DSP ...</td>\n",
       "      <td>0049241168090</td>\n",
       "      <td>https://db.advertsdata.com//matching/matching....</td>\n",
       "      <td>Firmenhomepage Deutschland</td>\n",
       "      <td>300190877.0</td>\n",
       "    </tr>\n",
       "    <tr>\n",
       "      <th>42</th>\n",
       "      <td>Digatron Industrie Elektronik GmbH</td>\n",
       "      <td>Aachen</td>\n",
       "      <td>Herr</td>\n",
       "      <td>Rungen</td>\n",
       "      <td>stefan.rungen@digatron.de</td>\n",
       "      <td>Gruppenleiter Softwareentwickler M/W/D IN AACHEN</td>\n",
       "      <td>2020-02-07</td>\n",
       "      <td>» Gruppenleiter Softwareentwickler \\n\\nGruppen...</td>\n",
       "      <td>0241168090</td>\n",
       "      <td>https://db.advertsdata.com//matching/matching....</td>\n",
       "      <td>Firmenhomepage Deutschland</td>\n",
       "      <td>300190724.0</td>\n",
       "    </tr>\n",
       "    <tr>\n",
       "      <th>...</th>\n",
       "      <td>...</td>\n",
       "      <td>...</td>\n",
       "      <td>...</td>\n",
       "      <td>...</td>\n",
       "      <td>...</td>\n",
       "      <td>...</td>\n",
       "      <td>...</td>\n",
       "      <td>...</td>\n",
       "      <td>...</td>\n",
       "      <td>...</td>\n",
       "      <td>...</td>\n",
       "      <td>...</td>\n",
       "    </tr>\n",
       "    <tr>\n",
       "      <th>2810</th>\n",
       "      <td>ISO Software Systeme GmbH / ISO GmbH Ingenieur...</td>\n",
       "      <td>Duisburg</td>\n",
       "      <td>NaN</td>\n",
       "      <td>NaN</td>\n",
       "      <td>datenschutz@isogmbh.de</td>\n",
       "      <td>Softwareentwickler C#.NET (m/w/d)</td>\n",
       "      <td>2020-03-12</td>\n",
       "      <td>Softwareentwickler C#.NET (m/w/d)\\n\\nISO Softw...</td>\n",
       "      <td>NaN</td>\n",
       "      <td>https://db.advertsdata.com//matching/matching....</td>\n",
       "      <td>www.indeed.de (Premium)</td>\n",
       "      <td>303989520.0</td>\n",
       "    </tr>\n",
       "    <tr>\n",
       "      <th>2811</th>\n",
       "      <td>ISO Software Systeme GmbH / ISO GmbH Ingenieur...</td>\n",
       "      <td>Duisburg</td>\n",
       "      <td>Frau</td>\n",
       "      <td>Zobel</td>\n",
       "      <td>datenschutz@isogmbh.de</td>\n",
       "      <td>Softwareentwickler C#.NET (m/w/d)</td>\n",
       "      <td>2020-03-12</td>\n",
       "      <td>Softwareentwickler C#.NET (m/w/d) \\n\\nStandort...</td>\n",
       "      <td>NaN</td>\n",
       "      <td>https://db.advertsdata.com//matching/matching....</td>\n",
       "      <td>Firmenhomepage Deutschland</td>\n",
       "      <td>303989520.0</td>\n",
       "    </tr>\n",
       "    <tr>\n",
       "      <th>2812</th>\n",
       "      <td>ISO Software Systeme GmbH / ISO GmbH Ingenieur...</td>\n",
       "      <td>Duisburg</td>\n",
       "      <td>Frau</td>\n",
       "      <td>Zobel</td>\n",
       "      <td>datenschutz@isogmbh.de</td>\n",
       "      <td>Senior Softwareentwickler C#.NET (m/w/d)</td>\n",
       "      <td>2020-03-12</td>\n",
       "      <td>Senior Softwareentwickler C#.NET (m/w/d) \\n\\nL...</td>\n",
       "      <td>NaN</td>\n",
       "      <td>https://db.advertsdata.com//matching/matching....</td>\n",
       "      <td>Firmenhomepage Deutschland</td>\n",
       "      <td>303989527.0</td>\n",
       "    </tr>\n",
       "    <tr>\n",
       "      <th>2813</th>\n",
       "      <td>ISO Software Systeme GmbH / ISO GmbH Ingenieur...</td>\n",
       "      <td>Duisburg</td>\n",
       "      <td>NaN</td>\n",
       "      <td>NaN</td>\n",
       "      <td>datenschutz@isogmbh.de</td>\n",
       "      <td>Senior Softwareentwickler C#.NET (m/w/d)</td>\n",
       "      <td>2020-03-12</td>\n",
       "      <td>Jobs per E-Mail\\r\\n\\r\\n% Für Arbeitgeber\\r\\n\\r...</td>\n",
       "      <td>NaN</td>\n",
       "      <td>https://db.advertsdata.com//matching/matching....</td>\n",
       "      <td>www.StepStone.de</td>\n",
       "      <td>303989527.0</td>\n",
       "    </tr>\n",
       "    <tr>\n",
       "      <th>2814</th>\n",
       "      <td>ISO Software Systeme GmbH / ISO GmbH Ingenieur...</td>\n",
       "      <td>Duisburg</td>\n",
       "      <td>NaN</td>\n",
       "      <td>NaN</td>\n",
       "      <td>datenschutz@isogmbh.de</td>\n",
       "      <td>Senior Softwareentwickler C#.NET (m/w/d)</td>\n",
       "      <td>2020-04-26</td>\n",
       "      <td>% Für Arbeitgeber\\r\\n\\r\\nMeine Jobs\\r\\n\\r\\nLog...</td>\n",
       "      <td>NaN</td>\n",
       "      <td>https://db.advertsdata.com//matching/matching....</td>\n",
       "      <td>www.StepStone.de</td>\n",
       "      <td>303989527.0</td>\n",
       "    </tr>\n",
       "  </tbody>\n",
       "</table>\n",
       "<p>1039 rows × 12 columns</p>\n",
       "</div>"
      ],
      "text/plain": [
       "                                            Unternehmen Einsatzort  \\\n",
       "0     Fraunhofer-Institut für Mikroelektronische Sch...   Duisburg   \n",
       "1     Fraunhofer-Institut für Mikroelektronische Sch...   Duisburg   \n",
       "40                   Digatron Industrie Elektronik GmbH     Aachen   \n",
       "41                   Digatron Industrie Elektronik GmbH     Aachen   \n",
       "42                   Digatron Industrie Elektronik GmbH     Aachen   \n",
       "...                                                 ...        ...   \n",
       "2810  ISO Software Systeme GmbH / ISO GmbH Ingenieur...   Duisburg   \n",
       "2811  ISO Software Systeme GmbH / ISO GmbH Ingenieur...   Duisburg   \n",
       "2812  ISO Software Systeme GmbH / ISO GmbH Ingenieur...   Duisburg   \n",
       "2813  ISO Software Systeme GmbH / ISO GmbH Ingenieur...   Duisburg   \n",
       "2814  ISO Software Systeme GmbH / ISO GmbH Ingenieur...   Duisburg   \n",
       "\n",
       "     Anrede - AP Anzeige Nachname - AP Anzeige  \\\n",
       "0                   Frau           Schwarzkopf   \n",
       "1                   Frau           Schwarzkopf   \n",
       "40                  Herr               Bündgen   \n",
       "41                  Herr               Bündgen   \n",
       "42                  Herr                Rungen   \n",
       "...                  ...                   ...   \n",
       "2810                 NaN                   NaN   \n",
       "2811                Frau                 Zobel   \n",
       "2812                Frau                 Zobel   \n",
       "2813                 NaN                   NaN   \n",
       "2814                 NaN                   NaN   \n",
       "\n",
       "                     E-Mail - AP Anzeige  \\\n",
       "0     anja.schwarzkopf@ims.fraunhofer.de   \n",
       "1     anja.schwarzkopf@ims.fraunhofer.de   \n",
       "40                      info@digatron.de   \n",
       "41                      info@digatron.de   \n",
       "42             stefan.rungen@digatron.de   \n",
       "...                                  ...   \n",
       "2810              datenschutz@isogmbh.de   \n",
       "2811              datenschutz@isogmbh.de   \n",
       "2812              datenschutz@isogmbh.de   \n",
       "2813              datenschutz@isogmbh.de   \n",
       "2814              datenschutz@isogmbh.de   \n",
       "\n",
       "                                               Position Erscheinungstag  \\\n",
       "0     SOFTWAREENTWICKLERIN / SOFTWAREENTWICKLER FÜR ...      2020-02-14   \n",
       "1     Softwareentwickler*in für den Bereich Messtechnik      2020-04-20   \n",
       "40    SOFTWAREENTWICKLER WINDOWS M/W/D am Standort A...      2020-02-07   \n",
       "41    Karriere » Softwareentwickler Embedded Systeme...      2020-02-07   \n",
       "42     Gruppenleiter Softwareentwickler M/W/D IN AACHEN      2020-02-07   \n",
       "...                                                 ...             ...   \n",
       "2810                  Softwareentwickler C#.NET (m/w/d)      2020-03-12   \n",
       "2811                  Softwareentwickler C#.NET (m/w/d)      2020-03-12   \n",
       "2812           Senior Softwareentwickler C#.NET (m/w/d)      2020-03-12   \n",
       "2813           Senior Softwareentwickler C#.NET (m/w/d)      2020-03-12   \n",
       "2814           Senior Softwareentwickler C#.NET (m/w/d)      2020-04-26   \n",
       "\n",
       "                                          Anzeigen-Text Telefon - AP Anzeige  \\\n",
       "0     Haben Sie Lust, ganz vorne dabei zu sein, wenn...         020337832913   \n",
       "1     Haben Sie Lust, ganz vorne dabei zu sein, wenn...         020337832913   \n",
       "40    FRAGEN?\\n\\n0241 168 09 0\\njobs@digatron.de\\n\\n...        0049241168090   \n",
       "41    » Softwareentwickler Embedded Systeme und DSP ...        0049241168090   \n",
       "42    » Gruppenleiter Softwareentwickler \\n\\nGruppen...           0241168090   \n",
       "...                                                 ...                  ...   \n",
       "2810  Softwareentwickler C#.NET (m/w/d)\\n\\nISO Softw...                  NaN   \n",
       "2811  Softwareentwickler C#.NET (m/w/d) \\n\\nStandort...                  NaN   \n",
       "2812  Senior Softwareentwickler C#.NET (m/w/d) \\n\\nL...                  NaN   \n",
       "2813  Jobs per E-Mail\\r\\n\\r\\n% Für Arbeitgeber\\r\\n\\r...                  NaN   \n",
       "2814  % Für Arbeitgeber\\r\\n\\r\\nMeine Jobs\\r\\n\\r\\nLog...                  NaN   \n",
       "\n",
       "                                           Anzeigenlink  \\\n",
       "0     https://db.advertsdata.com//matching/matching....   \n",
       "1     https://db.advertsdata.com//matching/matching....   \n",
       "40    https://db.advertsdata.com//matching/matching....   \n",
       "41    https://db.advertsdata.com//matching/matching....   \n",
       "42    https://db.advertsdata.com//matching/matching....   \n",
       "...                                                 ...   \n",
       "2810  https://db.advertsdata.com//matching/matching....   \n",
       "2811  https://db.advertsdata.com//matching/matching....   \n",
       "2812  https://db.advertsdata.com//matching/matching....   \n",
       "2813  https://db.advertsdata.com//matching/matching....   \n",
       "2814  https://db.advertsdata.com//matching/matching....   \n",
       "\n",
       "                          Quelle   Stellen-ID  \n",
       "0             www.connecticum.de  300402864.0  \n",
       "1             www.connecticum.de  300402864.0  \n",
       "40    Firmenhomepage Deutschland  300190837.0  \n",
       "41    Firmenhomepage Deutschland  300190877.0  \n",
       "42    Firmenhomepage Deutschland  300190724.0  \n",
       "...                          ...          ...  \n",
       "2810     www.indeed.de (Premium)  303989520.0  \n",
       "2811  Firmenhomepage Deutschland  303989520.0  \n",
       "2812  Firmenhomepage Deutschland  303989527.0  \n",
       "2813            www.StepStone.de  303989527.0  \n",
       "2814            www.StepStone.de  303989527.0  \n",
       "\n",
       "[1039 rows x 12 columns]"
      ]
     },
     "execution_count": 40,
     "metadata": {},
     "output_type": "execute_result"
    }
   ],
   "source": [
    "\n",
    "#job_data[['Einsatzort']].value_counts().head(20)\n",
    "toplocations = job_data[['Einsatzort']].value_counts().head(10)\n",
    "toplocations_list = [toplocations.keys()[i][0] for i in range(10)]\n",
    "\n",
    "location_mask = job_data['Einsatzort'].isin(toplocations_list)\n",
    "tops_location = job_data[location_mask]\n",
    "#'Softwareentwickler (m/w/d)' in toppositions.keys()\n",
    "#job_data['Position'].isin(toppositions_list).unique()\n",
    "tops_location"
   ]
  },
  {
   "cell_type": "code",
   "execution_count": 43,
   "metadata": {},
   "outputs": [
    {
     "data": {
      "text/plain": [
       "Position                                                               \n",
       "Softwareentwickler (m/w/d)                                                 43\n",
       "Java Softwareentwickler (m/w/d)                                            22\n",
       "Softwareentwickler (w/m/d) Schwerpunkt Systemnahe Anwendungsentwicklung    16\n",
       "Softwareentwickler Java (m/w/d)                                            13\n",
       "(Junior) Softwareentwickler (Java) (m/w/d)                                 12\n",
       "PHP Softwareentwickler (m/w/d) Marktplatz                                  10\n",
       "Java-Softwareentwickler (w/m/d)                                            10\n",
       "Softwareentwickler (m/w/d) Java                                            10\n",
       "PHP Softwareentwickler (m/w/d) Parking                                     10\n",
       "Junior-Softwareentwickler (m/w/d) .NET / C# / JavaScript                    9\n",
       "dtype: int64"
      ]
     },
     "execution_count": 43,
     "metadata": {},
     "output_type": "execute_result"
    }
   ],
   "source": [
    "tops_location[['Position']].value_counts().head(10)"
   ]
  },
  {
   "cell_type": "code",
   "execution_count": 41,
   "metadata": {},
   "outputs": [
    {
     "data": {
      "text/html": [
       "<div>\n",
       "<style scoped>\n",
       "    .dataframe tbody tr th:only-of-type {\n",
       "        vertical-align: middle;\n",
       "    }\n",
       "\n",
       "    .dataframe tbody tr th {\n",
       "        vertical-align: top;\n",
       "    }\n",
       "\n",
       "    .dataframe thead th {\n",
       "        text-align: right;\n",
       "    }\n",
       "</style>\n",
       "<table border=\"1\" class=\"dataframe\">\n",
       "  <thead>\n",
       "    <tr style=\"text-align: right;\">\n",
       "      <th></th>\n",
       "      <th>location</th>\n",
       "      <th>number</th>\n",
       "    </tr>\n",
       "  </thead>\n",
       "  <tbody>\n",
       "    <tr>\n",
       "      <th>0</th>\n",
       "      <td>Köln</td>\n",
       "      <td>311</td>\n",
       "    </tr>\n",
       "    <tr>\n",
       "      <th>1</th>\n",
       "      <td>Düsseldorf</td>\n",
       "      <td>156</td>\n",
       "    </tr>\n",
       "    <tr>\n",
       "      <th>2</th>\n",
       "      <td>Dortmund</td>\n",
       "      <td>135</td>\n",
       "    </tr>\n",
       "    <tr>\n",
       "      <th>3</th>\n",
       "      <td>Aachen</td>\n",
       "      <td>112</td>\n",
       "    </tr>\n",
       "    <tr>\n",
       "      <th>4</th>\n",
       "      <td>Essen</td>\n",
       "      <td>93</td>\n",
       "    </tr>\n",
       "    <tr>\n",
       "      <th>5</th>\n",
       "      <td>Bochum</td>\n",
       "      <td>75</td>\n",
       "    </tr>\n",
       "    <tr>\n",
       "      <th>6</th>\n",
       "      <td>Bonn</td>\n",
       "      <td>67</td>\n",
       "    </tr>\n",
       "    <tr>\n",
       "      <th>7</th>\n",
       "      <td>51429 Bergisch Gladbach Nordrhein-Westfalen</td>\n",
       "      <td>32</td>\n",
       "    </tr>\n",
       "    <tr>\n",
       "      <th>8</th>\n",
       "      <td>Wuppertal</td>\n",
       "      <td>30</td>\n",
       "    </tr>\n",
       "    <tr>\n",
       "      <th>9</th>\n",
       "      <td>Duisburg</td>\n",
       "      <td>28</td>\n",
       "    </tr>\n",
       "  </tbody>\n",
       "</table>\n",
       "</div>"
      ],
      "text/plain": [
       "                                      location  number\n",
       "0                                         Köln     311\n",
       "1                                   Düsseldorf     156\n",
       "2                                     Dortmund     135\n",
       "3                                       Aachen     112\n",
       "4                                        Essen      93\n",
       "5                                       Bochum      75\n",
       "6                                         Bonn      67\n",
       "7  51429 Bergisch Gladbach Nordrhein-Westfalen      32\n",
       "8                                    Wuppertal      30\n",
       "9                                     Duisburg      28"
      ]
     },
     "execution_count": 41,
     "metadata": {},
     "output_type": "execute_result"
    }
   ],
   "source": [
    "df_toplocations = pd.DataFrame({'location': toplocations_list, 'number': toplocations.values})\n",
    "df_toplocations"
   ]
  },
  {
   "cell_type": "code",
   "execution_count": 42,
   "metadata": {},
   "outputs": [
    {
     "data": {
      "application/vnd.plotly.v1+json": {
       "config": {
        "plotlyServerURL": "https://plot.ly"
       },
       "data": [
        {
         "domain": {
          "x": [
           0,
           1
          ],
          "y": [
           0,
           1
          ]
         },
         "hovertemplate": "location=%{label}<br>number=%{value}<extra></extra>",
         "labels": [
          "Köln",
          "Düsseldorf",
          "Dortmund",
          "Aachen",
          "Essen",
          "Bochum",
          "Bonn",
          "51429 Bergisch Gladbach Nordrhein-Westfalen",
          "Wuppertal",
          "Duisburg"
         ],
         "legendgroup": "",
         "name": "",
         "showlegend": true,
         "type": "pie",
         "values": [
          311,
          156,
          135,
          112,
          93,
          75,
          67,
          32,
          30,
          28
         ]
        }
       ],
       "layout": {
        "legend": {
         "tracegroupgap": 0
        },
        "template": {
         "data": {
          "bar": [
           {
            "error_x": {
             "color": "#2a3f5f"
            },
            "error_y": {
             "color": "#2a3f5f"
            },
            "marker": {
             "line": {
              "color": "#E5ECF6",
              "width": 0.5
             }
            },
            "type": "bar"
           }
          ],
          "barpolar": [
           {
            "marker": {
             "line": {
              "color": "#E5ECF6",
              "width": 0.5
             }
            },
            "type": "barpolar"
           }
          ],
          "carpet": [
           {
            "aaxis": {
             "endlinecolor": "#2a3f5f",
             "gridcolor": "white",
             "linecolor": "white",
             "minorgridcolor": "white",
             "startlinecolor": "#2a3f5f"
            },
            "baxis": {
             "endlinecolor": "#2a3f5f",
             "gridcolor": "white",
             "linecolor": "white",
             "minorgridcolor": "white",
             "startlinecolor": "#2a3f5f"
            },
            "type": "carpet"
           }
          ],
          "choropleth": [
           {
            "colorbar": {
             "outlinewidth": 0,
             "ticks": ""
            },
            "type": "choropleth"
           }
          ],
          "contour": [
           {
            "colorbar": {
             "outlinewidth": 0,
             "ticks": ""
            },
            "colorscale": [
             [
              0,
              "#0d0887"
             ],
             [
              0.1111111111111111,
              "#46039f"
             ],
             [
              0.2222222222222222,
              "#7201a8"
             ],
             [
              0.3333333333333333,
              "#9c179e"
             ],
             [
              0.4444444444444444,
              "#bd3786"
             ],
             [
              0.5555555555555556,
              "#d8576b"
             ],
             [
              0.6666666666666666,
              "#ed7953"
             ],
             [
              0.7777777777777778,
              "#fb9f3a"
             ],
             [
              0.8888888888888888,
              "#fdca26"
             ],
             [
              1,
              "#f0f921"
             ]
            ],
            "type": "contour"
           }
          ],
          "contourcarpet": [
           {
            "colorbar": {
             "outlinewidth": 0,
             "ticks": ""
            },
            "type": "contourcarpet"
           }
          ],
          "heatmap": [
           {
            "colorbar": {
             "outlinewidth": 0,
             "ticks": ""
            },
            "colorscale": [
             [
              0,
              "#0d0887"
             ],
             [
              0.1111111111111111,
              "#46039f"
             ],
             [
              0.2222222222222222,
              "#7201a8"
             ],
             [
              0.3333333333333333,
              "#9c179e"
             ],
             [
              0.4444444444444444,
              "#bd3786"
             ],
             [
              0.5555555555555556,
              "#d8576b"
             ],
             [
              0.6666666666666666,
              "#ed7953"
             ],
             [
              0.7777777777777778,
              "#fb9f3a"
             ],
             [
              0.8888888888888888,
              "#fdca26"
             ],
             [
              1,
              "#f0f921"
             ]
            ],
            "type": "heatmap"
           }
          ],
          "heatmapgl": [
           {
            "colorbar": {
             "outlinewidth": 0,
             "ticks": ""
            },
            "colorscale": [
             [
              0,
              "#0d0887"
             ],
             [
              0.1111111111111111,
              "#46039f"
             ],
             [
              0.2222222222222222,
              "#7201a8"
             ],
             [
              0.3333333333333333,
              "#9c179e"
             ],
             [
              0.4444444444444444,
              "#bd3786"
             ],
             [
              0.5555555555555556,
              "#d8576b"
             ],
             [
              0.6666666666666666,
              "#ed7953"
             ],
             [
              0.7777777777777778,
              "#fb9f3a"
             ],
             [
              0.8888888888888888,
              "#fdca26"
             ],
             [
              1,
              "#f0f921"
             ]
            ],
            "type": "heatmapgl"
           }
          ],
          "histogram": [
           {
            "marker": {
             "colorbar": {
              "outlinewidth": 0,
              "ticks": ""
             }
            },
            "type": "histogram"
           }
          ],
          "histogram2d": [
           {
            "colorbar": {
             "outlinewidth": 0,
             "ticks": ""
            },
            "colorscale": [
             [
              0,
              "#0d0887"
             ],
             [
              0.1111111111111111,
              "#46039f"
             ],
             [
              0.2222222222222222,
              "#7201a8"
             ],
             [
              0.3333333333333333,
              "#9c179e"
             ],
             [
              0.4444444444444444,
              "#bd3786"
             ],
             [
              0.5555555555555556,
              "#d8576b"
             ],
             [
              0.6666666666666666,
              "#ed7953"
             ],
             [
              0.7777777777777778,
              "#fb9f3a"
             ],
             [
              0.8888888888888888,
              "#fdca26"
             ],
             [
              1,
              "#f0f921"
             ]
            ],
            "type": "histogram2d"
           }
          ],
          "histogram2dcontour": [
           {
            "colorbar": {
             "outlinewidth": 0,
             "ticks": ""
            },
            "colorscale": [
             [
              0,
              "#0d0887"
             ],
             [
              0.1111111111111111,
              "#46039f"
             ],
             [
              0.2222222222222222,
              "#7201a8"
             ],
             [
              0.3333333333333333,
              "#9c179e"
             ],
             [
              0.4444444444444444,
              "#bd3786"
             ],
             [
              0.5555555555555556,
              "#d8576b"
             ],
             [
              0.6666666666666666,
              "#ed7953"
             ],
             [
              0.7777777777777778,
              "#fb9f3a"
             ],
             [
              0.8888888888888888,
              "#fdca26"
             ],
             [
              1,
              "#f0f921"
             ]
            ],
            "type": "histogram2dcontour"
           }
          ],
          "mesh3d": [
           {
            "colorbar": {
             "outlinewidth": 0,
             "ticks": ""
            },
            "type": "mesh3d"
           }
          ],
          "parcoords": [
           {
            "line": {
             "colorbar": {
              "outlinewidth": 0,
              "ticks": ""
             }
            },
            "type": "parcoords"
           }
          ],
          "pie": [
           {
            "automargin": true,
            "type": "pie"
           }
          ],
          "scatter": [
           {
            "marker": {
             "colorbar": {
              "outlinewidth": 0,
              "ticks": ""
             }
            },
            "type": "scatter"
           }
          ],
          "scatter3d": [
           {
            "line": {
             "colorbar": {
              "outlinewidth": 0,
              "ticks": ""
             }
            },
            "marker": {
             "colorbar": {
              "outlinewidth": 0,
              "ticks": ""
             }
            },
            "type": "scatter3d"
           }
          ],
          "scattercarpet": [
           {
            "marker": {
             "colorbar": {
              "outlinewidth": 0,
              "ticks": ""
             }
            },
            "type": "scattercarpet"
           }
          ],
          "scattergeo": [
           {
            "marker": {
             "colorbar": {
              "outlinewidth": 0,
              "ticks": ""
             }
            },
            "type": "scattergeo"
           }
          ],
          "scattergl": [
           {
            "marker": {
             "colorbar": {
              "outlinewidth": 0,
              "ticks": ""
             }
            },
            "type": "scattergl"
           }
          ],
          "scattermapbox": [
           {
            "marker": {
             "colorbar": {
              "outlinewidth": 0,
              "ticks": ""
             }
            },
            "type": "scattermapbox"
           }
          ],
          "scatterpolar": [
           {
            "marker": {
             "colorbar": {
              "outlinewidth": 0,
              "ticks": ""
             }
            },
            "type": "scatterpolar"
           }
          ],
          "scatterpolargl": [
           {
            "marker": {
             "colorbar": {
              "outlinewidth": 0,
              "ticks": ""
             }
            },
            "type": "scatterpolargl"
           }
          ],
          "scatterternary": [
           {
            "marker": {
             "colorbar": {
              "outlinewidth": 0,
              "ticks": ""
             }
            },
            "type": "scatterternary"
           }
          ],
          "surface": [
           {
            "colorbar": {
             "outlinewidth": 0,
             "ticks": ""
            },
            "colorscale": [
             [
              0,
              "#0d0887"
             ],
             [
              0.1111111111111111,
              "#46039f"
             ],
             [
              0.2222222222222222,
              "#7201a8"
             ],
             [
              0.3333333333333333,
              "#9c179e"
             ],
             [
              0.4444444444444444,
              "#bd3786"
             ],
             [
              0.5555555555555556,
              "#d8576b"
             ],
             [
              0.6666666666666666,
              "#ed7953"
             ],
             [
              0.7777777777777778,
              "#fb9f3a"
             ],
             [
              0.8888888888888888,
              "#fdca26"
             ],
             [
              1,
              "#f0f921"
             ]
            ],
            "type": "surface"
           }
          ],
          "table": [
           {
            "cells": {
             "fill": {
              "color": "#EBF0F8"
             },
             "line": {
              "color": "white"
             }
            },
            "header": {
             "fill": {
              "color": "#C8D4E3"
             },
             "line": {
              "color": "white"
             }
            },
            "type": "table"
           }
          ]
         },
         "layout": {
          "annotationdefaults": {
           "arrowcolor": "#2a3f5f",
           "arrowhead": 0,
           "arrowwidth": 1
          },
          "coloraxis": {
           "colorbar": {
            "outlinewidth": 0,
            "ticks": ""
           }
          },
          "colorscale": {
           "diverging": [
            [
             0,
             "#8e0152"
            ],
            [
             0.1,
             "#c51b7d"
            ],
            [
             0.2,
             "#de77ae"
            ],
            [
             0.3,
             "#f1b6da"
            ],
            [
             0.4,
             "#fde0ef"
            ],
            [
             0.5,
             "#f7f7f7"
            ],
            [
             0.6,
             "#e6f5d0"
            ],
            [
             0.7,
             "#b8e186"
            ],
            [
             0.8,
             "#7fbc41"
            ],
            [
             0.9,
             "#4d9221"
            ],
            [
             1,
             "#276419"
            ]
           ],
           "sequential": [
            [
             0,
             "#0d0887"
            ],
            [
             0.1111111111111111,
             "#46039f"
            ],
            [
             0.2222222222222222,
             "#7201a8"
            ],
            [
             0.3333333333333333,
             "#9c179e"
            ],
            [
             0.4444444444444444,
             "#bd3786"
            ],
            [
             0.5555555555555556,
             "#d8576b"
            ],
            [
             0.6666666666666666,
             "#ed7953"
            ],
            [
             0.7777777777777778,
             "#fb9f3a"
            ],
            [
             0.8888888888888888,
             "#fdca26"
            ],
            [
             1,
             "#f0f921"
            ]
           ],
           "sequentialminus": [
            [
             0,
             "#0d0887"
            ],
            [
             0.1111111111111111,
             "#46039f"
            ],
            [
             0.2222222222222222,
             "#7201a8"
            ],
            [
             0.3333333333333333,
             "#9c179e"
            ],
            [
             0.4444444444444444,
             "#bd3786"
            ],
            [
             0.5555555555555556,
             "#d8576b"
            ],
            [
             0.6666666666666666,
             "#ed7953"
            ],
            [
             0.7777777777777778,
             "#fb9f3a"
            ],
            [
             0.8888888888888888,
             "#fdca26"
            ],
            [
             1,
             "#f0f921"
            ]
           ]
          },
          "colorway": [
           "#636efa",
           "#EF553B",
           "#00cc96",
           "#ab63fa",
           "#FFA15A",
           "#19d3f3",
           "#FF6692",
           "#B6E880",
           "#FF97FF",
           "#FECB52"
          ],
          "font": {
           "color": "#2a3f5f"
          },
          "geo": {
           "bgcolor": "white",
           "lakecolor": "white",
           "landcolor": "#E5ECF6",
           "showlakes": true,
           "showland": true,
           "subunitcolor": "white"
          },
          "hoverlabel": {
           "align": "left"
          },
          "hovermode": "closest",
          "mapbox": {
           "style": "light"
          },
          "paper_bgcolor": "white",
          "plot_bgcolor": "#E5ECF6",
          "polar": {
           "angularaxis": {
            "gridcolor": "white",
            "linecolor": "white",
            "ticks": ""
           },
           "bgcolor": "#E5ECF6",
           "radialaxis": {
            "gridcolor": "white",
            "linecolor": "white",
            "ticks": ""
           }
          },
          "scene": {
           "xaxis": {
            "backgroundcolor": "#E5ECF6",
            "gridcolor": "white",
            "gridwidth": 2,
            "linecolor": "white",
            "showbackground": true,
            "ticks": "",
            "zerolinecolor": "white"
           },
           "yaxis": {
            "backgroundcolor": "#E5ECF6",
            "gridcolor": "white",
            "gridwidth": 2,
            "linecolor": "white",
            "showbackground": true,
            "ticks": "",
            "zerolinecolor": "white"
           },
           "zaxis": {
            "backgroundcolor": "#E5ECF6",
            "gridcolor": "white",
            "gridwidth": 2,
            "linecolor": "white",
            "showbackground": true,
            "ticks": "",
            "zerolinecolor": "white"
           }
          },
          "shapedefaults": {
           "line": {
            "color": "#2a3f5f"
           }
          },
          "ternary": {
           "aaxis": {
            "gridcolor": "white",
            "linecolor": "white",
            "ticks": ""
           },
           "baxis": {
            "gridcolor": "white",
            "linecolor": "white",
            "ticks": ""
           },
           "bgcolor": "#E5ECF6",
           "caxis": {
            "gridcolor": "white",
            "linecolor": "white",
            "ticks": ""
           }
          },
          "title": {
           "x": 0.05
          },
          "xaxis": {
           "automargin": true,
           "gridcolor": "white",
           "linecolor": "white",
           "ticks": "",
           "title": {
            "standoff": 15
           },
           "zerolinecolor": "white",
           "zerolinewidth": 2
          },
          "yaxis": {
           "automargin": true,
           "gridcolor": "white",
           "linecolor": "white",
           "ticks": "",
           "title": {
            "standoff": 15
           },
           "zerolinecolor": "white",
           "zerolinewidth": 2
          }
         }
        },
        "title": {
         "text": "top 10 locations"
        }
       }
      },
      "text/html": [
       "<div>                            <div id=\"b2c130e3-c5ea-4f48-952d-c971a058035a\" class=\"plotly-graph-div\" style=\"height:525px; width:100%;\"></div>            <script type=\"text/javascript\">                require([\"plotly\"], function(Plotly) {                    window.PLOTLYENV=window.PLOTLYENV || {};                                    if (document.getElementById(\"b2c130e3-c5ea-4f48-952d-c971a058035a\")) {                    Plotly.newPlot(                        \"b2c130e3-c5ea-4f48-952d-c971a058035a\",                        [{\"domain\": {\"x\": [0.0, 1.0], \"y\": [0.0, 1.0]}, \"hovertemplate\": \"location=%{label}<br>number=%{value}<extra></extra>\", \"labels\": [\"K\\u00f6ln\", \"D\\u00fcsseldorf\", \"Dortmund\", \"Aachen\", \"Essen\", \"Bochum\", \"Bonn\", \"51429 Bergisch Gladbach Nordrhein-Westfalen\", \"Wuppertal\", \"Duisburg\"], \"legendgroup\": \"\", \"name\": \"\", \"showlegend\": true, \"type\": \"pie\", \"values\": [311, 156, 135, 112, 93, 75, 67, 32, 30, 28]}],                        {\"legend\": {\"tracegroupgap\": 0}, \"template\": {\"data\": {\"bar\": [{\"error_x\": {\"color\": \"#2a3f5f\"}, \"error_y\": {\"color\": \"#2a3f5f\"}, \"marker\": {\"line\": {\"color\": \"#E5ECF6\", \"width\": 0.5}}, \"type\": \"bar\"}], \"barpolar\": [{\"marker\": {\"line\": {\"color\": \"#E5ECF6\", \"width\": 0.5}}, \"type\": \"barpolar\"}], \"carpet\": [{\"aaxis\": {\"endlinecolor\": \"#2a3f5f\", \"gridcolor\": \"white\", \"linecolor\": \"white\", \"minorgridcolor\": \"white\", \"startlinecolor\": \"#2a3f5f\"}, \"baxis\": {\"endlinecolor\": \"#2a3f5f\", \"gridcolor\": \"white\", \"linecolor\": \"white\", \"minorgridcolor\": \"white\", \"startlinecolor\": \"#2a3f5f\"}, \"type\": \"carpet\"}], \"choropleth\": [{\"colorbar\": {\"outlinewidth\": 0, \"ticks\": \"\"}, \"type\": \"choropleth\"}], \"contour\": [{\"colorbar\": {\"outlinewidth\": 0, \"ticks\": \"\"}, \"colorscale\": [[0.0, \"#0d0887\"], [0.1111111111111111, \"#46039f\"], [0.2222222222222222, \"#7201a8\"], [0.3333333333333333, \"#9c179e\"], [0.4444444444444444, \"#bd3786\"], [0.5555555555555556, \"#d8576b\"], [0.6666666666666666, \"#ed7953\"], [0.7777777777777778, \"#fb9f3a\"], [0.8888888888888888, \"#fdca26\"], [1.0, \"#f0f921\"]], \"type\": \"contour\"}], \"contourcarpet\": [{\"colorbar\": {\"outlinewidth\": 0, \"ticks\": \"\"}, \"type\": \"contourcarpet\"}], \"heatmap\": [{\"colorbar\": {\"outlinewidth\": 0, \"ticks\": \"\"}, \"colorscale\": [[0.0, \"#0d0887\"], [0.1111111111111111, \"#46039f\"], [0.2222222222222222, \"#7201a8\"], [0.3333333333333333, \"#9c179e\"], [0.4444444444444444, \"#bd3786\"], [0.5555555555555556, \"#d8576b\"], [0.6666666666666666, \"#ed7953\"], [0.7777777777777778, \"#fb9f3a\"], [0.8888888888888888, \"#fdca26\"], [1.0, \"#f0f921\"]], \"type\": \"heatmap\"}], \"heatmapgl\": [{\"colorbar\": {\"outlinewidth\": 0, \"ticks\": \"\"}, \"colorscale\": [[0.0, \"#0d0887\"], [0.1111111111111111, \"#46039f\"], [0.2222222222222222, \"#7201a8\"], [0.3333333333333333, \"#9c179e\"], [0.4444444444444444, \"#bd3786\"], [0.5555555555555556, \"#d8576b\"], [0.6666666666666666, \"#ed7953\"], [0.7777777777777778, \"#fb9f3a\"], [0.8888888888888888, \"#fdca26\"], [1.0, \"#f0f921\"]], \"type\": \"heatmapgl\"}], \"histogram\": [{\"marker\": {\"colorbar\": {\"outlinewidth\": 0, \"ticks\": \"\"}}, \"type\": \"histogram\"}], \"histogram2d\": [{\"colorbar\": {\"outlinewidth\": 0, \"ticks\": \"\"}, \"colorscale\": [[0.0, \"#0d0887\"], [0.1111111111111111, \"#46039f\"], [0.2222222222222222, \"#7201a8\"], [0.3333333333333333, \"#9c179e\"], [0.4444444444444444, \"#bd3786\"], [0.5555555555555556, \"#d8576b\"], [0.6666666666666666, \"#ed7953\"], [0.7777777777777778, \"#fb9f3a\"], [0.8888888888888888, \"#fdca26\"], [1.0, \"#f0f921\"]], \"type\": \"histogram2d\"}], \"histogram2dcontour\": [{\"colorbar\": {\"outlinewidth\": 0, \"ticks\": \"\"}, \"colorscale\": [[0.0, \"#0d0887\"], [0.1111111111111111, \"#46039f\"], [0.2222222222222222, \"#7201a8\"], [0.3333333333333333, \"#9c179e\"], [0.4444444444444444, \"#bd3786\"], [0.5555555555555556, \"#d8576b\"], [0.6666666666666666, \"#ed7953\"], [0.7777777777777778, \"#fb9f3a\"], [0.8888888888888888, \"#fdca26\"], [1.0, \"#f0f921\"]], \"type\": \"histogram2dcontour\"}], \"mesh3d\": [{\"colorbar\": {\"outlinewidth\": 0, \"ticks\": \"\"}, \"type\": \"mesh3d\"}], \"parcoords\": [{\"line\": {\"colorbar\": {\"outlinewidth\": 0, \"ticks\": \"\"}}, \"type\": \"parcoords\"}], \"pie\": [{\"automargin\": true, \"type\": \"pie\"}], \"scatter\": [{\"marker\": {\"colorbar\": {\"outlinewidth\": 0, \"ticks\": \"\"}}, \"type\": \"scatter\"}], \"scatter3d\": [{\"line\": {\"colorbar\": {\"outlinewidth\": 0, \"ticks\": \"\"}}, \"marker\": {\"colorbar\": {\"outlinewidth\": 0, \"ticks\": \"\"}}, \"type\": \"scatter3d\"}], \"scattercarpet\": [{\"marker\": {\"colorbar\": {\"outlinewidth\": 0, \"ticks\": \"\"}}, \"type\": \"scattercarpet\"}], \"scattergeo\": [{\"marker\": {\"colorbar\": {\"outlinewidth\": 0, \"ticks\": \"\"}}, \"type\": \"scattergeo\"}], \"scattergl\": [{\"marker\": {\"colorbar\": {\"outlinewidth\": 0, \"ticks\": \"\"}}, \"type\": \"scattergl\"}], \"scattermapbox\": [{\"marker\": {\"colorbar\": {\"outlinewidth\": 0, \"ticks\": \"\"}}, \"type\": \"scattermapbox\"}], \"scatterpolar\": [{\"marker\": {\"colorbar\": {\"outlinewidth\": 0, \"ticks\": \"\"}}, \"type\": \"scatterpolar\"}], \"scatterpolargl\": [{\"marker\": {\"colorbar\": {\"outlinewidth\": 0, \"ticks\": \"\"}}, \"type\": \"scatterpolargl\"}], \"scatterternary\": [{\"marker\": {\"colorbar\": {\"outlinewidth\": 0, \"ticks\": \"\"}}, \"type\": \"scatterternary\"}], \"surface\": [{\"colorbar\": {\"outlinewidth\": 0, \"ticks\": \"\"}, \"colorscale\": [[0.0, \"#0d0887\"], [0.1111111111111111, \"#46039f\"], [0.2222222222222222, \"#7201a8\"], [0.3333333333333333, \"#9c179e\"], [0.4444444444444444, \"#bd3786\"], [0.5555555555555556, \"#d8576b\"], [0.6666666666666666, \"#ed7953\"], [0.7777777777777778, \"#fb9f3a\"], [0.8888888888888888, \"#fdca26\"], [1.0, \"#f0f921\"]], \"type\": \"surface\"}], \"table\": [{\"cells\": {\"fill\": {\"color\": \"#EBF0F8\"}, \"line\": {\"color\": \"white\"}}, \"header\": {\"fill\": {\"color\": \"#C8D4E3\"}, \"line\": {\"color\": \"white\"}}, \"type\": \"table\"}]}, \"layout\": {\"annotationdefaults\": {\"arrowcolor\": \"#2a3f5f\", \"arrowhead\": 0, \"arrowwidth\": 1}, \"coloraxis\": {\"colorbar\": {\"outlinewidth\": 0, \"ticks\": \"\"}}, \"colorscale\": {\"diverging\": [[0, \"#8e0152\"], [0.1, \"#c51b7d\"], [0.2, \"#de77ae\"], [0.3, \"#f1b6da\"], [0.4, \"#fde0ef\"], [0.5, \"#f7f7f7\"], [0.6, \"#e6f5d0\"], [0.7, \"#b8e186\"], [0.8, \"#7fbc41\"], [0.9, \"#4d9221\"], [1, \"#276419\"]], \"sequential\": [[0.0, \"#0d0887\"], [0.1111111111111111, \"#46039f\"], [0.2222222222222222, \"#7201a8\"], [0.3333333333333333, \"#9c179e\"], [0.4444444444444444, \"#bd3786\"], [0.5555555555555556, \"#d8576b\"], [0.6666666666666666, \"#ed7953\"], [0.7777777777777778, \"#fb9f3a\"], [0.8888888888888888, \"#fdca26\"], [1.0, \"#f0f921\"]], \"sequentialminus\": [[0.0, \"#0d0887\"], [0.1111111111111111, \"#46039f\"], [0.2222222222222222, \"#7201a8\"], [0.3333333333333333, \"#9c179e\"], [0.4444444444444444, \"#bd3786\"], [0.5555555555555556, \"#d8576b\"], [0.6666666666666666, \"#ed7953\"], [0.7777777777777778, \"#fb9f3a\"], [0.8888888888888888, \"#fdca26\"], [1.0, \"#f0f921\"]]}, \"colorway\": [\"#636efa\", \"#EF553B\", \"#00cc96\", \"#ab63fa\", \"#FFA15A\", \"#19d3f3\", \"#FF6692\", \"#B6E880\", \"#FF97FF\", \"#FECB52\"], \"font\": {\"color\": \"#2a3f5f\"}, \"geo\": {\"bgcolor\": \"white\", \"lakecolor\": \"white\", \"landcolor\": \"#E5ECF6\", \"showlakes\": true, \"showland\": true, \"subunitcolor\": \"white\"}, \"hoverlabel\": {\"align\": \"left\"}, \"hovermode\": \"closest\", \"mapbox\": {\"style\": \"light\"}, \"paper_bgcolor\": \"white\", \"plot_bgcolor\": \"#E5ECF6\", \"polar\": {\"angularaxis\": {\"gridcolor\": \"white\", \"linecolor\": \"white\", \"ticks\": \"\"}, \"bgcolor\": \"#E5ECF6\", \"radialaxis\": {\"gridcolor\": \"white\", \"linecolor\": \"white\", \"ticks\": \"\"}}, \"scene\": {\"xaxis\": {\"backgroundcolor\": \"#E5ECF6\", \"gridcolor\": \"white\", \"gridwidth\": 2, \"linecolor\": \"white\", \"showbackground\": true, \"ticks\": \"\", \"zerolinecolor\": \"white\"}, \"yaxis\": {\"backgroundcolor\": \"#E5ECF6\", \"gridcolor\": \"white\", \"gridwidth\": 2, \"linecolor\": \"white\", \"showbackground\": true, \"ticks\": \"\", \"zerolinecolor\": \"white\"}, \"zaxis\": {\"backgroundcolor\": \"#E5ECF6\", \"gridcolor\": \"white\", \"gridwidth\": 2, \"linecolor\": \"white\", \"showbackground\": true, \"ticks\": \"\", \"zerolinecolor\": \"white\"}}, \"shapedefaults\": {\"line\": {\"color\": \"#2a3f5f\"}}, \"ternary\": {\"aaxis\": {\"gridcolor\": \"white\", \"linecolor\": \"white\", \"ticks\": \"\"}, \"baxis\": {\"gridcolor\": \"white\", \"linecolor\": \"white\", \"ticks\": \"\"}, \"bgcolor\": \"#E5ECF6\", \"caxis\": {\"gridcolor\": \"white\", \"linecolor\": \"white\", \"ticks\": \"\"}}, \"title\": {\"x\": 0.05}, \"xaxis\": {\"automargin\": true, \"gridcolor\": \"white\", \"linecolor\": \"white\", \"ticks\": \"\", \"title\": {\"standoff\": 15}, \"zerolinecolor\": \"white\", \"zerolinewidth\": 2}, \"yaxis\": {\"automargin\": true, \"gridcolor\": \"white\", \"linecolor\": \"white\", \"ticks\": \"\", \"title\": {\"standoff\": 15}, \"zerolinecolor\": \"white\", \"zerolinewidth\": 2}}}, \"title\": {\"text\": \"top 10 locations\"}},                        {\"responsive\": true}                    ).then(function(){\n",
       "                            \n",
       "var gd = document.getElementById('b2c130e3-c5ea-4f48-952d-c971a058035a');\n",
       "var x = new MutationObserver(function (mutations, observer) {{\n",
       "        var display = window.getComputedStyle(gd).display;\n",
       "        if (!display || display === 'none') {{\n",
       "            console.log([gd, 'removed!']);\n",
       "            Plotly.purge(gd);\n",
       "            observer.disconnect();\n",
       "        }}\n",
       "}});\n",
       "\n",
       "// Listen for the removal of the full notebook cells\n",
       "var notebookContainer = gd.closest('#notebook-container');\n",
       "if (notebookContainer) {{\n",
       "    x.observe(notebookContainer, {childList: true});\n",
       "}}\n",
       "\n",
       "// Listen for the clearing of the current output cell\n",
       "var outputEl = gd.closest('.output');\n",
       "if (outputEl) {{\n",
       "    x.observe(outputEl, {childList: true});\n",
       "}}\n",
       "\n",
       "                        })                };                });            </script>        </div>"
      ]
     },
     "metadata": {},
     "output_type": "display_data"
    }
   ],
   "source": [
    "fig = px.pie(df_toplocations, values=df_toplocations.number, names=df_toplocations.location, title='top 10 locations')\n",
    "fig.show()"
   ]
  },
  {
   "cell_type": "code",
   "execution_count": 23,
   "metadata": {},
   "outputs": [
    {
     "data": {
      "text/plain": [
       "Stellen-ID \n",
       "286557635.0    30\n",
       "297391499.0    25\n",
       "249812563.0    19\n",
       "259720084.0    18\n",
       "281012055.0    16\n",
       "259716423.0    15\n",
       "259716598.0    15\n",
       "259719385.0    14\n",
       "259717515.0    14\n",
       "296728502.0    13\n",
       "279368887.0    12\n",
       "287025510.0    11\n",
       "303072439.0    11\n",
       "292116931.0    10\n",
       "278405267.0    10\n",
       "250021157.0    10\n",
       "301966150.0     9\n",
       "287010104.0     9\n",
       "316354266.0     9\n",
       "248259645.0     9\n",
       "dtype: int64"
      ]
     },
     "execution_count": 23,
     "metadata": {},
     "output_type": "execute_result"
    }
   ],
   "source": [
    "job_data[['Stellen-ID']].value_counts().head(20)\n"
   ]
  },
  {
   "cell_type": "code",
   "execution_count": 53,
   "metadata": {},
   "outputs": [
    {
     "data": {
      "text/html": [
       "<div>\n",
       "<style scoped>\n",
       "    .dataframe tbody tr th:only-of-type {\n",
       "        vertical-align: middle;\n",
       "    }\n",
       "\n",
       "    .dataframe tbody tr th {\n",
       "        vertical-align: top;\n",
       "    }\n",
       "\n",
       "    .dataframe thead th {\n",
       "        text-align: right;\n",
       "    }\n",
       "</style>\n",
       "<table border=\"1\" class=\"dataframe\">\n",
       "  <thead>\n",
       "    <tr style=\"text-align: right;\">\n",
       "      <th></th>\n",
       "      <th>Unternehmen</th>\n",
       "      <th>Einsatzort</th>\n",
       "      <th>Anrede - AP Anzeige</th>\n",
       "      <th>Nachname - AP Anzeige</th>\n",
       "      <th>E-Mail - AP Anzeige</th>\n",
       "      <th>Position</th>\n",
       "      <th>Erscheinungstag</th>\n",
       "      <th>Anzeigen-Text</th>\n",
       "      <th>Telefon - AP Anzeige</th>\n",
       "      <th>Anzeigenlink</th>\n",
       "      <th>Quelle</th>\n",
       "      <th>Stellen-ID</th>\n",
       "    </tr>\n",
       "  </thead>\n",
       "  <tbody>\n",
       "    <tr>\n",
       "      <th>714</th>\n",
       "      <td>S.K.I. GmbH</td>\n",
       "      <td>41199 Mönchengladbach Nordrhein-Westfalen</td>\n",
       "      <td>Herr</td>\n",
       "      <td>Kremer</td>\n",
       "      <td>bewerbung@ski-gmbh.com</td>\n",
       "      <td>Informatiker / MATSE / Ingenieur als Softwaree...</td>\n",
       "      <td>2020-02-25</td>\n",
       "      <td>S.K.I. GmbH\\n\\nInformatiker / MATSE / Ingenieu...</td>\n",
       "      <td>02166623170</td>\n",
       "      <td>https://db.advertsdata.com//matching/matching....</td>\n",
       "      <td>www.Monster.de</td>\n",
       "      <td>301966150.0</td>\n",
       "    </tr>\n",
       "    <tr>\n",
       "      <th>716</th>\n",
       "      <td>S.K.I. GmbH</td>\n",
       "      <td>Mönchengladbach</td>\n",
       "      <td>Herr</td>\n",
       "      <td>Kremer</td>\n",
       "      <td>bewerbung@ski-gmbh.com</td>\n",
       "      <td>Informatiker / MATSE / Ingenieur als Softwaree...</td>\n",
       "      <td>2020-02-28</td>\n",
       "      <td>S.K.I. GmbH\\n\\nInformatiker / MATSE / Ingenieu...</td>\n",
       "      <td>02166623170</td>\n",
       "      <td>https://db.advertsdata.com//matching/matching....</td>\n",
       "      <td>www.Jobware.de</td>\n",
       "      <td>301966150.0</td>\n",
       "    </tr>\n",
       "    <tr>\n",
       "      <th>717</th>\n",
       "      <td>S.K.I. GmbH</td>\n",
       "      <td>Mönchengladbach</td>\n",
       "      <td>Herr</td>\n",
       "      <td>Kremer</td>\n",
       "      <td>bewerbung@ski-gmbh.com</td>\n",
       "      <td>Informatiker / MATSE / Ingenieur als Softwaree...</td>\n",
       "      <td>2020-02-28</td>\n",
       "      <td>S.K.I. GmbH\\n\\nInformatiker / MATSE / Ingenieu...</td>\n",
       "      <td>02166623170</td>\n",
       "      <td>https://db.advertsdata.com//matching/matching....</td>\n",
       "      <td>www.FAZJOB.net</td>\n",
       "      <td>301966150.0</td>\n",
       "    </tr>\n",
       "    <tr>\n",
       "      <th>719</th>\n",
       "      <td>S.K.I. GmbH</td>\n",
       "      <td>Mönchengladbach</td>\n",
       "      <td>Herr</td>\n",
       "      <td>Kremer</td>\n",
       "      <td>bewerbung@ski-gmbh.com</td>\n",
       "      <td>Informatiker, MATSE oder Ingenieur als Softwar...</td>\n",
       "      <td>2020-03-10</td>\n",
       "      <td>Freie Stellen\\n\\nWir sind ein erfolgreiches, m...</td>\n",
       "      <td>00492166623170</td>\n",
       "      <td>https://db.advertsdata.com//matching/matching....</td>\n",
       "      <td>Firmenhomepage Deutschland</td>\n",
       "      <td>301966150.0</td>\n",
       "    </tr>\n",
       "    <tr>\n",
       "      <th>722</th>\n",
       "      <td>S.K.I. GmbH</td>\n",
       "      <td>Mönchengladbach</td>\n",
       "      <td>Herr</td>\n",
       "      <td>Kremer</td>\n",
       "      <td>bewerbung@ski-gmbh.com</td>\n",
       "      <td>Informatiker / MATSE / Ingenieur als Softwaree...</td>\n",
       "      <td>2020-03-29</td>\n",
       "      <td>S.K.I. GmbH\\n\\nInformatiker / MATSE / Ingenieu...</td>\n",
       "      <td>02166623170</td>\n",
       "      <td>https://db.advertsdata.com//matching/matching....</td>\n",
       "      <td>www.FAZJOB.net</td>\n",
       "      <td>301966150.0</td>\n",
       "    </tr>\n",
       "    <tr>\n",
       "      <th>723</th>\n",
       "      <td>S.K.I. GmbH</td>\n",
       "      <td>Mönchengladbach</td>\n",
       "      <td>Herr</td>\n",
       "      <td>Kremer</td>\n",
       "      <td>bewerbung@ski-gmbh.com</td>\n",
       "      <td>Informatiker / MATSE / Ingenieur als Softwaree...</td>\n",
       "      <td>2020-03-29</td>\n",
       "      <td>S.K.I. GmbH\\n\\nInformatiker / MATSE / Ingenieu...</td>\n",
       "      <td>02166623170</td>\n",
       "      <td>https://db.advertsdata.com//matching/matching....</td>\n",
       "      <td>www.Jobware.de</td>\n",
       "      <td>301966150.0</td>\n",
       "    </tr>\n",
       "    <tr>\n",
       "      <th>724</th>\n",
       "      <td>S.K.I. GmbH</td>\n",
       "      <td>41199 Mönchengladbach Nordrhein-Westfalen</td>\n",
       "      <td>Herr</td>\n",
       "      <td>Kremer</td>\n",
       "      <td>bewerbung@ski-gmbh.com</td>\n",
       "      <td>Informatiker / MATSE / Ingenieur als Softwaree...</td>\n",
       "      <td>2020-04-08</td>\n",
       "      <td>S.K.I. GmbH\\n\\nInformatiker / MATSE / Ingenieu...</td>\n",
       "      <td>02166623170</td>\n",
       "      <td>https://db.advertsdata.com//matching/matching....</td>\n",
       "      <td>www.Monster.de</td>\n",
       "      <td>301966150.0</td>\n",
       "    </tr>\n",
       "    <tr>\n",
       "      <th>725</th>\n",
       "      <td>S.K.I. GmbH</td>\n",
       "      <td>Mönchengladbach</td>\n",
       "      <td>Herr</td>\n",
       "      <td>Kremer</td>\n",
       "      <td>bewerbung@ski-gmbh.com</td>\n",
       "      <td>Informatiker / MATSE / Ingenieur als Softwaree...</td>\n",
       "      <td>2020-04-28</td>\n",
       "      <td>S.K.I. GmbH\\n\\nInformatiker / MATSE / Ingenieu...</td>\n",
       "      <td>02166623170</td>\n",
       "      <td>https://db.advertsdata.com//matching/matching....</td>\n",
       "      <td>www.Jobware.de</td>\n",
       "      <td>301966150.0</td>\n",
       "    </tr>\n",
       "    <tr>\n",
       "      <th>726</th>\n",
       "      <td>S.K.I. GmbH</td>\n",
       "      <td>Mönchengladbach</td>\n",
       "      <td>Herr</td>\n",
       "      <td>Kremer</td>\n",
       "      <td>bewerbung@ski-gmbh.com</td>\n",
       "      <td>Informatiker / MATSE / Ingenieur als Softwaree...</td>\n",
       "      <td>2020-04-28</td>\n",
       "      <td>S.K.I. GmbH\\n\\nInformatiker / MATSE / Ingenieu...</td>\n",
       "      <td>02166623170</td>\n",
       "      <td>https://db.advertsdata.com//matching/matching....</td>\n",
       "      <td>www.FAZJOB.net</td>\n",
       "      <td>301966150.0</td>\n",
       "    </tr>\n",
       "  </tbody>\n",
       "</table>\n",
       "</div>"
      ],
      "text/plain": [
       "     Unternehmen                                 Einsatzort  \\\n",
       "714  S.K.I. GmbH  41199 Mönchengladbach Nordrhein-Westfalen   \n",
       "716  S.K.I. GmbH                            Mönchengladbach   \n",
       "717  S.K.I. GmbH                            Mönchengladbach   \n",
       "719  S.K.I. GmbH                            Mönchengladbach   \n",
       "722  S.K.I. GmbH                            Mönchengladbach   \n",
       "723  S.K.I. GmbH                            Mönchengladbach   \n",
       "724  S.K.I. GmbH  41199 Mönchengladbach Nordrhein-Westfalen   \n",
       "725  S.K.I. GmbH                            Mönchengladbach   \n",
       "726  S.K.I. GmbH                            Mönchengladbach   \n",
       "\n",
       "    Anrede - AP Anzeige Nachname - AP Anzeige     E-Mail - AP Anzeige  \\\n",
       "714                Herr                Kremer  bewerbung@ski-gmbh.com   \n",
       "716                Herr                Kremer  bewerbung@ski-gmbh.com   \n",
       "717                Herr                Kremer  bewerbung@ski-gmbh.com   \n",
       "719                Herr                Kremer  bewerbung@ski-gmbh.com   \n",
       "722                Herr                Kremer  bewerbung@ski-gmbh.com   \n",
       "723                Herr                Kremer  bewerbung@ski-gmbh.com   \n",
       "724                Herr                Kremer  bewerbung@ski-gmbh.com   \n",
       "725                Herr                Kremer  bewerbung@ski-gmbh.com   \n",
       "726                Herr                Kremer  bewerbung@ski-gmbh.com   \n",
       "\n",
       "                                              Position Erscheinungstag  \\\n",
       "714  Informatiker / MATSE / Ingenieur als Softwaree...      2020-02-25   \n",
       "716  Informatiker / MATSE / Ingenieur als Softwaree...      2020-02-28   \n",
       "717  Informatiker / MATSE / Ingenieur als Softwaree...      2020-02-28   \n",
       "719  Informatiker, MATSE oder Ingenieur als Softwar...      2020-03-10   \n",
       "722  Informatiker / MATSE / Ingenieur als Softwaree...      2020-03-29   \n",
       "723  Informatiker / MATSE / Ingenieur als Softwaree...      2020-03-29   \n",
       "724  Informatiker / MATSE / Ingenieur als Softwaree...      2020-04-08   \n",
       "725  Informatiker / MATSE / Ingenieur als Softwaree...      2020-04-28   \n",
       "726  Informatiker / MATSE / Ingenieur als Softwaree...      2020-04-28   \n",
       "\n",
       "                                         Anzeigen-Text Telefon - AP Anzeige  \\\n",
       "714  S.K.I. GmbH\\n\\nInformatiker / MATSE / Ingenieu...          02166623170   \n",
       "716  S.K.I. GmbH\\n\\nInformatiker / MATSE / Ingenieu...          02166623170   \n",
       "717  S.K.I. GmbH\\n\\nInformatiker / MATSE / Ingenieu...          02166623170   \n",
       "719  Freie Stellen\\n\\nWir sind ein erfolgreiches, m...       00492166623170   \n",
       "722  S.K.I. GmbH\\n\\nInformatiker / MATSE / Ingenieu...          02166623170   \n",
       "723  S.K.I. GmbH\\n\\nInformatiker / MATSE / Ingenieu...          02166623170   \n",
       "724  S.K.I. GmbH\\n\\nInformatiker / MATSE / Ingenieu...          02166623170   \n",
       "725  S.K.I. GmbH\\n\\nInformatiker / MATSE / Ingenieu...          02166623170   \n",
       "726  S.K.I. GmbH\\n\\nInformatiker / MATSE / Ingenieu...          02166623170   \n",
       "\n",
       "                                          Anzeigenlink  \\\n",
       "714  https://db.advertsdata.com//matching/matching....   \n",
       "716  https://db.advertsdata.com//matching/matching....   \n",
       "717  https://db.advertsdata.com//matching/matching....   \n",
       "719  https://db.advertsdata.com//matching/matching....   \n",
       "722  https://db.advertsdata.com//matching/matching....   \n",
       "723  https://db.advertsdata.com//matching/matching....   \n",
       "724  https://db.advertsdata.com//matching/matching....   \n",
       "725  https://db.advertsdata.com//matching/matching....   \n",
       "726  https://db.advertsdata.com//matching/matching....   \n",
       "\n",
       "                         Quelle   Stellen-ID  \n",
       "714              www.Monster.de  301966150.0  \n",
       "716              www.Jobware.de  301966150.0  \n",
       "717              www.FAZJOB.net  301966150.0  \n",
       "719  Firmenhomepage Deutschland  301966150.0  \n",
       "722              www.FAZJOB.net  301966150.0  \n",
       "723              www.Jobware.de  301966150.0  \n",
       "724              www.Monster.de  301966150.0  \n",
       "725              www.Jobware.de  301966150.0  \n",
       "726              www.FAZJOB.net  301966150.0  "
      ]
     },
     "execution_count": 53,
     "metadata": {},
     "output_type": "execute_result"
    }
   ],
   "source": [
    "df_301966150= job_data[job_data['Stellen-ID']==301966150.0]\n",
    "df_301966150"
   ]
  },
  {
   "cell_type": "code",
   "execution_count": 54,
   "metadata": {},
   "outputs": [
    {
     "name": "stdout",
     "output_type": "stream",
     "text": [
      "S.K.I. GmbH\n",
      "\n",
      "Informatiker / MATSE / Ingenieur als Softwareentwickler (m/w/d) für Embedded- und Webanwendungen\n",
      "\n",
      "Wir sind ein kleines, wendiges und erfolgreiches Unternehmen im Bereich der industriellen Durchflussmesstechnik. Unsere Kunden sind namhafte Unternehmen der Energiewirtschaft, des Anlagenbaus und der gesamten Industrie. \n",
      "\n",
      "Für die weitere Entwicklung suchen wir eine/n hochqualifizierte/n \n",
      "\n",
      "Informatiker / MATSE / Ingenieur als Softwareentwickler (m/w/d) für Embedded- und Webanwendungen\n",
      "\n",
      "Ihre Aufgaben:\n",
      "\n",
      "Als Teil eines bestehenden kleinen Teams lösen Sie eigenständig Herausforderungen im Bereich der Softwareentwicklung. \n",
      "\n",
      "Sie entwickeln eigenverantwortlich Firmware für Embedded Controller (ARM-Cortex), Web-Anwendungen und Test-Software \n",
      "Sie dokumentieren ihre Arbeit fortlaufend und helfen mit, durch frühes Refactoring einen hochwertigen, wiederverwendbaren Software-Fundus zu schaffen \n",
      "Sie nehmen Ihre Software auf unseren Plattformen in Betrieb und „committen“ nur sorgfältig getestete Entwicklungsstände \n",
      "Ihre Arbeitsergebnisse fließen in Messrechnerfirmware, in Webanwendungen und in Berechnungstools ein \n",
      "\n",
      "Das bieten wir Ihnen im Rahmen der gemeinsamen Gestaltung der Zukunft:\n",
      "\n",
      "Verantwortungsvolle und abwechslungsreiche Aufgaben \n",
      "Ein innovationsfreudiges Arbeitsumfeld bei einem attraktiven Einkommen \n",
      "Gestaltungsfreiraum für Ihre Ideen und Aktivitäten \n",
      "Eine Unternehmenskultur mit offener Kommunikation, kurzen Entscheidungswegen und Transparenz \n",
      "Ein freundliches und angenehmes Arbeitsklima \n",
      "Mitarbeit und kurze informelle Drähte in einem eng zusammenarbeitenden Kollegium aus Spezialisten wie Sie selbst eine/r sind \n",
      "Verkehrsgünstig gelegener Arbeitsplatz im Süden von Mönchengladbach \n",
      "\n",
      "Ihr Profil:\n",
      "\n",
      "Abgeschlossenes Studium der Informatik oder gleichwertige Ausbildung \n",
      "Sie verfügen über hinreichende Erfahrung im gesuchten Bereich und sehen sich mindestens so sehr als Software-Architekt wie als Programmierer \n",
      "Ihre fachlichen Kenntnisse und Fähigkeiten sind auf der Höhe der Zeit und sie tragen beständig Sorge dafür, dass das so bleibt \n",
      "Sie haben eine profunde Erfahrung in der Hochsprachenprogrammierung und verfügen über Kenntnisse in der Entwicklung von Software für „embedded systems“ in C. Idealerweise sind Sie auch vertraut mit Web-Anwendungen \n",
      "Sie besitzen eine gute Auffassungsgabe für vernetzte Problemstellungen und die Fähigkeit, sich in wechselnden Aufgaben zurecht zu finden \n",
      "Ihr Qualitätsbewusstsein spricht für Sie \n",
      "\n",
      "Das Aufgabengebiet erfordert ein hohes Maß an Selbstständigkeit, Eigenverantwortung und Einsatzbereitschaft. \n",
      "\n",
      "Ihre Bewerbung:\n",
      "\n",
      "Wenn Sie diese abwechslungsreiche Aufgabe anspricht, freuen wir uns auf Ihre aussagefähigen Bewerbungsunterlagen inkl. Angabe Ihres Gehaltswunsches. \n",
      "\n",
      "Für weitere Informationen steht Ihnen unser Herr Kremer unter 02166-62317-0 gern zur Verfügung.\n",
      "\n",
      "S.K.I. GmbH\n",
      "Hanns-Martin-Schleyer-Straße 22 \n",
      "41199 Mönchengladbach \n",
      "Postfach 410131 \n",
      "41241 Mönchengladbach\n",
      "mailto: bewerbung@ski-gmbh.com \n",
      "www.ski-gmbh.com\n",
      "\n"
     ]
    }
   ],
   "source": [
    "print(df_301966150['Anzeigen-Text'][723])"
   ]
  },
  {
   "cell_type": "code",
   "execution_count": 55,
   "metadata": {},
   "outputs": [
    {
     "name": "stdout",
     "output_type": "stream",
     "text": [
      "S.K.I. GmbH\n",
      "\n",
      "Informatiker / MATSE / Ingenieur als Softwareentwickler (m/w/d) für Embedded- und Webanwendungen\n",
      "\n",
      "Wir sind ein kleines, wendiges und erfolgreiches Unternehmen im Bereich der industriellen Durchflussmesstechnik. Unsere Kunden sind namhafte Unternehmen der Energiewirtschaft, des Anlagenbaus und der gesamten Industrie. \n",
      "\n",
      "Für die weitere Entwicklung suchen wir eine/n hochqualifizierte/n \n",
      "\n",
      "Informatiker / MATSE / Ingenieur als Softwareentwickler (m/w/d) für Embedded- und Webanwendungen\n",
      "\n",
      "Ihre Aufgaben:\n",
      "\n",
      "Als Teil eines bestehenden kleinen Teams lösen Sie eigenständig Herausforderungen im Bereich der Softwareentwicklung. \n",
      "\n",
      "Sie entwickeln eigenverantwortlich Firmware für Embedded Controller (ARM-Cortex), Web-Anwendungen und Test-Software \n",
      "Sie dokumentieren ihre Arbeit fortlaufend und helfen mit, durch frühes Refactoring einen hochwertigen, wiederverwendbaren Software-Fundus zu schaffen \n",
      "Sie nehmen Ihre Software auf unseren Plattformen in Betrieb und „committen“ nur sorgfältig getestete Entwicklungsstände \n",
      "Ihre Arbeitsergebnisse fließen in Messrechnerfirmware, in Webanwendungen und in Berechnungstools ein \n",
      "\n",
      "Das bieten wir Ihnen im Rahmen der gemeinsamen Gestaltung der Zukunft:\n",
      "\n",
      "Verantwortungsvolle und abwechslungsreiche Aufgaben \n",
      "Ein innovationsfreudiges Arbeitsumfeld bei einem attraktiven Einkommen \n",
      "Gestaltungsfreiraum für Ihre Ideen und Aktivitäten \n",
      "Eine Unternehmenskultur mit offener Kommunikation, kurzen Entscheidungswegen und Transparenz \n",
      "Ein freundliches und angenehmes Arbeitsklima \n",
      "Mitarbeit und kurze informelle Drähte in einem eng zusammenarbeitenden Kollegium aus Spezialisten wie Sie selbst eine/r sind \n",
      "Verkehrsgünstig gelegener Arbeitsplatz im Süden von Mönchengladbach \n",
      "\n",
      "Ihr Profil:\n",
      "\n",
      "Abgeschlossenes Studium der Informatik oder gleichwertige Ausbildung \n",
      "Sie verfügen über hinreichende Erfahrung im gesuchten Bereich und sehen sich mindestens so sehr als Software-Architekt wie als Programmierer \n",
      "Ihre fachlichen Kenntnisse und Fähigkeiten sind auf der Höhe der Zeit und sie tragen beständig Sorge dafür, dass das so bleibt \n",
      "Sie haben eine profunde Erfahrung in der Hochsprachenprogrammierung und verfügen über Kenntnisse in der Entwicklung von Software für „embedded systems“ in C. Idealerweise sind Sie auch vertraut mit Web-Anwendungen \n",
      "Sie besitzen eine gute Auffassungsgabe für vernetzte Problemstellungen und die Fähigkeit, sich in wechselnden Aufgaben zurecht zu finden \n",
      "Ihr Qualitätsbewusstsein spricht für Sie \n",
      "\n",
      "Das Aufgabengebiet erfordert ein hohes Maß an Selbstständigkeit, Eigenverantwortung und Einsatzbereitschaft. \n",
      "\n",
      "Ihre Bewerbung:\n",
      "\n",
      "Wenn Sie diese abwechslungsreiche Aufgabe anspricht, freuen wir uns auf Ihre aussagefähigen Bewerbungsunterlagen inkl. Angabe Ihres Gehaltswunsches. \n",
      "\n",
      "Für weitere Informationen steht Ihnen unser Herr Kremer unter 02166-62317-0 gern zur Verfügung.\n",
      "\n",
      "S.K.I. GmbH\n",
      "Hanns-Martin-Schleyer-Straße 22 \n",
      "41199 Mönchengladbach \n",
      "Postfach 410131 \n",
      "41241 Mönchengladbach\n",
      "mailto: bewerbung@ski-gmbh.com \n",
      "www.ski-gmbh.com\n",
      "\n"
     ]
    }
   ],
   "source": [
    "print(df_301966150['Anzeigen-Text'][724])"
   ]
  },
  {
   "cell_type": "code",
   "execution_count": 29,
   "metadata": {},
   "outputs": [
    {
     "ename": "TypeError",
     "evalue": "sequence item 2817: expected str instance, float found",
     "output_type": "error",
     "traceback": [
      "\u001b[0;31m---------------------------------------------------------------------------\u001b[0m",
      "\u001b[0;31mTypeError\u001b[0m                                 Traceback (most recent call last)",
      "\u001b[0;32m<ipython-input-29-0047ba7302da>\u001b[0m in \u001b[0;36m<module>\u001b[0;34m\u001b[0m\n\u001b[1;32m      1\u001b[0m \u001b[0;31m## Wordcloud for job_text\u001b[0m\u001b[0;34m\u001b[0m\u001b[0;34m\u001b[0m\u001b[0;34m\u001b[0m\u001b[0m\n\u001b[1;32m      2\u001b[0m \u001b[0;34m\u001b[0m\u001b[0m\n\u001b[0;32m----> 3\u001b[0;31m \u001b[0mjob_text\u001b[0m \u001b[0;34m=\u001b[0m \u001b[0;34m\" \"\u001b[0m\u001b[0;34m.\u001b[0m\u001b[0mjoin\u001b[0m\u001b[0;34m(\u001b[0m\u001b[0mreview\u001b[0m \u001b[0;32mfor\u001b[0m \u001b[0mreview\u001b[0m \u001b[0;32min\u001b[0m \u001b[0mjob_data\u001b[0m\u001b[0;34m[\u001b[0m\u001b[0;34m'Anzeigen-Text'\u001b[0m\u001b[0;34m]\u001b[0m\u001b[0;34m.\u001b[0m\u001b[0mvalues\u001b[0m\u001b[0;34m)\u001b[0m\u001b[0;34m\u001b[0m\u001b[0;34m\u001b[0m\u001b[0m\n\u001b[0m\u001b[1;32m      4\u001b[0m \u001b[0mprint\u001b[0m \u001b[0;34m(\u001b[0m\u001b[0;34m\"There are {} words in the combination of all review.\"\u001b[0m\u001b[0;34m.\u001b[0m\u001b[0mformat\u001b[0m\u001b[0;34m(\u001b[0m\u001b[0mlen\u001b[0m\u001b[0;34m(\u001b[0m\u001b[0mjob_text\u001b[0m\u001b[0;34m)\u001b[0m\u001b[0;34m)\u001b[0m\u001b[0;34m)\u001b[0m\u001b[0;34m\u001b[0m\u001b[0;34m\u001b[0m\u001b[0m\n\u001b[1;32m      5\u001b[0m \u001b[0;34m\u001b[0m\u001b[0m\n",
      "\u001b[0;31mTypeError\u001b[0m: sequence item 2817: expected str instance, float found"
     ]
    }
   ],
   "source": [
    "## Wordcloud for job_text\n",
    "\n",
    "job_text = \" \".join(review for review in job_data['Anzeigen-Text'].values)\n",
    "print (\"There are {} words in the combination of all review.\".format(len(job_text)))\n",
    "\n",
    "\n",
    "wordcloud = WordCloud(max_font_size=50, max_words=100, background_color=\"white\" ).generate(job_text)\n",
    "\n",
    "\n",
    "# Display the generated image:\n",
    "# the matplotlib way:\n",
    "plt.figure(figsize=[15,5])\n",
    "\n",
    "plt.imshow(wordcloud, interpolation='bilinear')\n",
    "plt.axis(\"off\")\n",
    "plt.show()\n",
    "\n",
    "#wordcloud.to_file('Wordcloud_Floyd.png')"
   ]
  },
  {
   "cell_type": "code",
   "execution_count": 28,
   "metadata": {},
   "outputs": [
    {
     "data": {
      "text/plain": [
       "array(['Haben Sie Lust, ganz vorne dabei zu sein, wenn die Zukunft entsteht? \\nDas Fraunhofer-Institut für Mikroelektronische Schaltungen und Systeme in Duisburg sucht zum nächstmöglichen Zeitpunkt eine/einen\\n\\nSOFTWAREENTWICKLERIN / SOFTWAREENTWICKLER FÜR DEN BEREICH MESSTECHNIK\\n\\nDas Fraunhofer IMS entwickelt anwendungsspezifische mikroelektronische Lösungen für aktuelle Herausforderungen unserer Auftraggeber. Das Spektrum unserer intelligenten Mikrosysteme reicht von Biosensoren bis hin zu optischen Sensoren mit Anwendungsbereichen von Healthcare bis zum autonomem Fahren. Unser Team \"Testentwicklung\" begleitet die komplette Vielfalt dieser innovativen Mikrosysteme vom Schaltungsdesign (Design for Testability) bis zum finalen Abnahmetest. Wir implementieren dazu die optimalen Verfahren für den automatischen Test. Nach einer Einarbeitungsphase übernehmen Sie die Leitung eigener Testprojekte.\\n\\nEs erwarten Sie folgende Aufgaben:\\n\\nEntwicklung und Programmierung von neuen Testverfahren zur Funktionsüberprüfung der integrierten Schaltungen\\nAnalyse der Testdaten für die Fertigung und Forschungsabteilungen \\nAktive Mitwirkung bei der Verbesserung unserer Prozesse in der Testentwicklung\\nBetreuung von wissenschaftlichem Nachwuchs\\n\\nWas Sie mitbringen\\n\\nein abgeschlossenes Diplomstudium (Uni) oder M. Sc. der Elektrotechnik, Physik, Informatik oder eines vergleichbaren Studiengangs\\nsichere Programmierkenntnisse (vorzugsweise C++)\\nErfahrungen in Messtechnik sind von Vorteil\\ngutes Deutsch und Englisch in Wort und Schrift\\nhohes Maß an Einsatzbereitschaft und Kommunikationsgeschick\\nsystematische, ergebnisorientierte und eigenständige Arbeitsweise sowie ein hohes Maß an Teamfähigkeit\\n\\nAnstellung, Vergütung und Sozialleistungen basieren auf dem Tarifvertrag für den öffentlichen Dienst (TVöD). Zusätzlich kann Fraunhofer leistungs- und erfolgsabhängige variable Vergütungsbestandteile gewähren.\\nDie Stelle ist zunächst auf 3 Jahre befristet.\\nDie wöchentliche Arbeitszeit beträgt 39 Stunden.\\nSchwerbehinderte Menschen werden bei gleicher Eignung bevorzugt eingestellt.\\nWir weisen darauf hin, dass die gewählte Berufsbezeichnung auch das dritte Geschlecht miteinbezieht.\\nDie Fraunhofer-Gesellschaft legt Wert auf eine geschlechtsunabhängige berufliche Gleichstellung.\\nDie Stelle kann auch in Teilzeit besetzt werden. \\n\\nFraunhofer ist die größte Organisation für anwendungsorientierte Forschung in Europa. Unsere Forschungsfelder richten sich nach den Bedürfnissen der Menschen: Gesundheit, Sicherheit, Kommunikation, Mobilität, Energie und Umwelt. Wir sind kreativ, wir gestalten Technik, wir entwerfen Produkte, wir verbessern Verfahren, wir eröffnen neue Wege.\\n\\nBitte bewerben Sie sich ausschließlich online über den Button \"Bewerben\".\\nBewerbungen per E-Mail oder Post können wir leider nicht berücksichtigen.\\n\\nFragen zu dieser Position beantwortet Ihnen gerne Frau Anja Schwarzkopf,\\nTelefon: +49 203 3783-2913, E-Mail: personal@ims.fraunhofer.de\\n\\nWeitere Informationen zum Institut finden Sie unter: www.ims.fraunhofer.de\\n\\nhttp://www.ims.fraunhofer.de \\n\\nKennziffer: IMS-2020-9\\n\\nBewerbungsfrist: \\n\\nFraunhofer-Gesellschaft\\n',\n",
       "       'Haben Sie Lust, ganz vorne dabei zu sein, wenn die Zukunft entsteht? \\nDas Fraunhofer-Institut für Mikroelektronische Schaltungen und Systeme in Duisburg sucht zum nächstmöglichen Zeitpunkt eine/einen\\n\\nSoftwareentwickler*in für den Bereich Messtechnik\\n\\nDas Fraunhofer IMS entwickelt anwendungsspezifische mikroelektronische Lösungen für aktuelle Herausforderungen unserer Auftraggeber. Das Spektrum unserer intelligenten Mikrosysteme reicht von Biosensoren bis hin zu optischen Sensoren mit Anwendungsbereichen von Healthcare bis zum autonomem Fahren. Unser Team \"Testentwicklung\" begleitet die komplette Vielfalt dieser innovativen Mikrosysteme vom Schaltungsdesign (Design for Testability) bis zum finalen Abnahmetest. Wir implementieren dazu die optimalen Verfahren für den automatischen Test. Nach einer Einarbeitungsphase übernehmen Sie die Leitung eigener Testprojekte.\\n\\nEs erwarten Sie folgende Aufgaben:\\n\\nEntwicklung und Programmierung von neuen Testverfahren zur Funktionsüberprüfung der integrierten Schaltungen\\nAnalyse der Testdaten für die Fertigung und Forschungsabteilungen \\nAktive Mitwirkung bei der Verbesserung unserer Prozesse in der Testentwicklung\\nBetreuung von wissenschaftlichem Nachwuchs\\n\\nWas Sie mitbringen\\n\\nein abgeschlossenes Diplomstudium (Uni) oder M. Sc. der Elektrotechnik, Physik, Informatik oder eines vergleichbaren Studiengangs\\nsichere Programmierkenntnisse (vorzugsweise C++)\\nErfahrungen in Messtechnik sind von Vorteil\\ngutes Deutsch und Englisch in Wort und Schrift\\nhohes Maß an Einsatzbereitschaft und Kommunikationsgeschick\\nsystematische, ergebnisorientierte und eigenständige Arbeitsweise sowie ein hohes Maß an Teamfähigkeit\\n\\nAnstellung, Vergütung und Sozialleistungen basieren auf dem Tarifvertrag für den öffentlichen Dienst (TVöD). Zusätzlich kann Fraunhofer leistungs- und erfolgsabhängige variable Vergütungsbestandteile gewähren.\\nDie Stelle ist zunächst auf 3 Jahre befristet.\\nDie wöchentliche Arbeitszeit beträgt 39 Stunden.\\nSchwerbehinderte Menschen werden bei gleicher Eignung bevorzugt eingestellt.\\nWir weisen darauf hin, dass die gewählte Berufsbezeichnung auch das dritte Geschlecht miteinbezieht.\\nDie Fraunhofer-Gesellschaft legt Wert auf eine geschlechtsunabhängige berufliche Gleichstellung.\\nDie Stelle kann auch in Teilzeit besetzt werden. \\n\\nFraunhofer ist die größte Organisation für anwendungsorientierte Forschung in Europa. Unsere Forschungsfelder richten sich nach den Bedürfnissen der Menschen: Gesundheit, Sicherheit, Kommunikation, Mobilität, Energie und Umwelt. Wir sind kreativ, wir gestalten Technik, wir entwerfen Produkte, wir verbessern Verfahren, wir eröffnen neue Wege.\\n\\nBitte bewerben Sie sich ausschließlich online über den Button \"Bewerben\".\\nBewerbungen per E-Mail oder Post können wir leider nicht berücksichtigen.\\n\\nFragen zu dieser Position beantwortet Ihnen gerne Frau Anja Schwarzkopf,\\nTelefon: +49 203 3783-2913, E-Mail: personal@ims.fraunhofer.de\\n\\nWeitere Informationen zum Institut finden Sie unter: www.ims.fraunhofer.de\\n\\nhttp://www.ims.fraunhofer.de \\n\\nKennziffer: IMS-2020-9\\n\\nBewerbungsfrist: \\n\\nFraunhofer-Gesellschaft\\n',\n",
       "       'Softwareentwickler (m/w/d) für System i (AS/400, RPG) \\n\\n4,47 \\n\\nVon 24 Mitarbeitern bewertet Kununu \\n\\nEingestellt am 13.03.2020 \\nBeschäftigungsart:  \\nKarrierestufe: Mit Berufserfahrung \\nBranche:  \\n\\nDie IKS ist ein unabhängiges IT-Unternehmen. Wir verfügen über hervorragende Expertise in allen Phasen der Softwareentwicklung. Mit diesem Wissen haben wir uns darauf spezialisiert, individuelle Softwarelösungen im Auftrag unserer Kunden zu erstellen.\\n\\nFür mehrere Kundenprojekte suchen wir mehrere\\n\\n== Softwareentwickler (m/w/d) für System i (AS/400, RPG) ==\\n\\nDas Umfeld:\\nUnsere Teams entwickeln und warten individuelle ERP-Systeme.\\nDer Technologistack stützt sich im Wesentlichen auf System i (AS/400) mit RPG, RDi und Profound.\\n\\nIhr Profil:\\n- Langjährige Erfahrung in der Softwareentwicklung auf System i mit RPG / ILE Total Free, SQL.\\n- Praktische Erfahrung im Umgang mit Windows, insbesondere mit dem Rational Developer for i (WDSC).\\n- Wünschenswert sind Kenntnisse in Profound.\\n- Interesse an moderner Softwareentwicklung auf System i.\\n\\nProjektstart/Laufzeit /Ort:\\n- Ab sofort.\\n- Vorerst für 6 Monate mit Option auf Verlängerung.\\n- Großraum Düsseldorf, mit moderater Reisetätigkeit,\\n- z. T. Homeoffice möglich.\\n\\nBei Interesse wenden Sie sich (bitte keine Softwarehäuser oder Personalvermittler) bitte mit Ihrem Beraterprofil per E-Mail an\\n\\nIKS Gesellschaft für Informations-\\nund Kommunikationssysteme mbH\\nFrau Monika Paulus-Käser\\nSiemensstraße 27\\n40721 Hilden\\nbewerbung@iks-gmbh.com\\n',\n",
       "       ..., nan, nan, nan], dtype=object)"
      ]
     },
     "execution_count": 28,
     "metadata": {},
     "output_type": "execute_result"
    }
   ],
   "source": [
    "job_data['Anzeigen-Text'].values"
   ]
  }
 ],
 "metadata": {
  "kernelspec": {
   "display_name": "Python 3",
   "language": "python",
   "name": "python3"
  },
  "language_info": {
   "codemirror_mode": {
    "name": "ipython",
    "version": 3
   },
   "file_extension": ".py",
   "mimetype": "text/x-python",
   "name": "python",
   "nbconvert_exporter": "python",
   "pygments_lexer": "ipython3",
   "version": "3.7.9"
  }
 },
 "nbformat": 4,
 "nbformat_minor": 4
}
